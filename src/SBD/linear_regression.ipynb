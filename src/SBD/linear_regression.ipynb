{
 "cells": [
  {
   "cell_type": "markdown",
   "metadata": {},
   "source": [
    "# L03.1 Linear Regression Practice"
   ]
  },
  {
   "cell_type": "code",
   "execution_count": 1,
   "metadata": {},
   "outputs": [
    {
     "name": "stdout",
     "output_type": "stream",
     "text": [
      "torch.LongTensor\n",
      "tensor([[1, 2, 3],\n",
      "        [4, 5, 6],\n",
      "        [7, 8, 9]])\n"
     ]
    }
   ],
   "source": [
    "import torch\n",
    "\n",
    "x = torch.tensor([[1, 2, 3],[4, 5, 6], [7, 8, 9]])\n",
    "print(x.type())\n",
    "print(x)"
   ]
  },
  {
   "cell_type": "code",
   "execution_count": 2,
   "metadata": {},
   "outputs": [
    {
     "name": "stdout",
     "output_type": "stream",
     "text": [
      "torch.Size([3, 3])\n",
      "torch.Size([3, 3])\n",
      "2\n"
     ]
    }
   ],
   "source": [
    "print(x.size())\n",
    "print(x.shape)\n",
    "print(x.ndimension())"
   ]
  },
  {
   "cell_type": "code",
   "execution_count": 3,
   "metadata": {},
   "outputs": [
    {
     "name": "stdout",
     "output_type": "stream",
     "text": [
      "torch.Size([3, 2, 2])\n",
      "3\n"
     ]
    }
   ],
   "source": [
    "y = torch.FloatTensor([[[1, 2], [3, 4]], [[5, 6], [7, 8]], [[1, 2], [3, 4]]])\n",
    "print(y.shape)\n",
    "print(y.ndimension()) # == len(y.shape)"
   ]
  },
  {
   "cell_type": "code",
   "execution_count": 4,
   "metadata": {},
   "outputs": [
    {
     "name": "stdout",
     "output_type": "stream",
     "text": [
      "tensor([[[1., 2.],\n",
      "         [3., 4.]],\n",
      "\n",
      "        [[5., 6.],\n",
      "         [7., 8.]],\n",
      "\n",
      "        [[1., 2.],\n",
      "         [3., 4.]]])\n",
      "origianl shape:  torch.Size([3, 2, 2])\n",
      "tensor([[[[1., 2.],\n",
      "          [3., 4.]],\n",
      "\n",
      "         [[5., 6.],\n",
      "          [7., 8.]],\n",
      "\n",
      "         [[1., 2.],\n",
      "          [3., 4.]]]])\n",
      "unsqueeze(0):  torch.Size([1, 3, 2, 2])\n"
     ]
    }
   ],
   "source": [
    "print(y)\n",
    "print(\"origianl shape: \", y.shape)\n",
    "\n",
    "y0 =y.unsqueeze(0)\n",
    "print(y0)\n",
    "print(\"unsqueeze(0): \", y0.shape)"
   ]
  },
  {
   "cell_type": "code",
   "execution_count": 5,
   "metadata": {},
   "outputs": [
    {
     "name": "stdout",
     "output_type": "stream",
     "text": [
      "tensor([[[[1., 2.],\n",
      "          [3., 4.]],\n",
      "\n",
      "         [[5., 6.],\n",
      "          [7., 8.]],\n",
      "\n",
      "         [[1., 2.],\n",
      "          [3., 4.]]]])\n",
      "tensor([[[[1., 2.],\n",
      "          [3., 4.]]],\n",
      "\n",
      "\n",
      "        [[[5., 6.],\n",
      "          [7., 8.]]],\n",
      "\n",
      "\n",
      "        [[[1., 2.],\n",
      "          [3., 4.]]]])\n",
      "tensor([[[[1., 2.]],\n",
      "\n",
      "         [[3., 4.]]],\n",
      "\n",
      "\n",
      "        [[[5., 6.]],\n",
      "\n",
      "         [[7., 8.]]],\n",
      "\n",
      "\n",
      "        [[[1., 2.]],\n",
      "\n",
      "         [[3., 4.]]]])\n",
      "tensor([[[[1.],\n",
      "          [2.]],\n",
      "\n",
      "         [[3.],\n",
      "          [4.]]],\n",
      "\n",
      "\n",
      "        [[[5.],\n",
      "          [6.]],\n",
      "\n",
      "         [[7.],\n",
      "          [8.]]],\n",
      "\n",
      "\n",
      "        [[[1.],\n",
      "          [2.]],\n",
      "\n",
      "         [[3.],\n",
      "          [4.]]]])\n"
     ]
    }
   ],
   "source": [
    "x = torch.FloatTensor([[[1, 2], [3, 4]], [[5, 6], [7, 8]], [[1, 2], [3, 4]]])\n",
    "\n",
    "x0 = x.unsqueeze(0) # [3, 2, 2] --> [1, 3, 2, 2]\n",
    "x1 = x.unsqueeze(1) # [3, 2, 2] --> [3, 1, 2, 2]\n",
    "x2 = x.unsqueeze(2) # [3, 2, 2] --> [3, 2, 1, 2]\n",
    "x3 = x.unsqueeze(3) # [3, 2, 2] --> [3, 2, 2, 1]\n",
    "\n",
    "print(x0)\n",
    "print(x1)\n",
    "print(x2)\n",
    "print(x3)"
   ]
  },
  {
   "cell_type": "code",
   "execution_count": 6,
   "metadata": {},
   "outputs": [
    {
     "name": "stdout",
     "output_type": "stream",
     "text": [
      "torch.Size([3, 2, 2])\n"
     ]
    }
   ],
   "source": [
    "xt = x.unsqueeze(0).unsqueeze(1).unsqueeze(0).unsqueeze(5) # 1, 1, 1, 3, 2, 1, 2\n",
    "print(xt.squeeze().shape)"
   ]
  },
  {
   "cell_type": "code",
   "execution_count": 7,
   "metadata": {},
   "outputs": [
    {
     "data": {
      "text/plain": [
       "tensor([[1., 2., 3., 4.],\n",
       "        [5., 6., 7., 8.],\n",
       "        [1., 2., 3., 4.]])"
      ]
     },
     "execution_count": 7,
     "metadata": {},
     "output_type": "execute_result"
    }
   ],
   "source": [
    "x.view(3, -1)"
   ]
  },
  {
   "cell_type": "code",
   "execution_count": 8,
   "metadata": {},
   "outputs": [
    {
     "name": "stdout",
     "output_type": "stream",
     "text": [
      "tensor([[3.0155],\n",
      "        [5.5607],\n",
      "        [9.1829]])\n"
     ]
    }
   ],
   "source": [
    "x = torch.FloatTensor([[1, 2], [3, 4], [5, 6]]) # 3 x 2\n",
    "w = torch.rand(1, 2, dtype=torch.float)  # 2 x 1\n",
    "b = torch.rand(3, 1, dtype=torch.float)\n",
    "\n",
    "print(x @ w.T + b)"
   ]
  },
  {
   "cell_type": "code",
   "execution_count": 9,
   "metadata": {},
   "outputs": [
    {
     "name": "stdout",
     "output_type": "stream",
     "text": [
      "tensor(72.)\n"
     ]
    }
   ],
   "source": [
    "w = torch.tensor(4.0, requires_grad=True)\n",
    "a = w*3\n",
    "l = a**2\n",
    "l.backward()\n",
    "print(w.grad)"
   ]
  },
  {
   "cell_type": "markdown",
   "metadata": {},
   "source": [
    "## Linear Regression 실습"
   ]
  },
  {
   "cell_type": "code",
   "execution_count": 10,
   "metadata": {},
   "outputs": [
    {
     "name": "stdout",
     "output_type": "stream",
     "text": [
      "tensor([[ 1.6212],\n",
      "        [-1.0627]]) tensor([[-0.5556]])\n",
      "Epoch 0: Cost = 150.5323028564453, W = [2.0165417194366455, -0.2400374412536621], b = -0.4158027768135071\n",
      "Epoch 100: Cost = 0.8111913800239563, W = [1.2574418783187866, 2.984672784805298], b = -2.1462292671203613\n",
      "Epoch 200: Cost = 0.3320358395576477, W = [1.302392840385437, 3.1093032360076904], b = -2.7852845191955566\n",
      "Epoch 300: Cost = 0.16955049335956573, W = [1.4811729192733765, 3.0919857025146484], b = -3.1421332359313965\n",
      "Epoch 400: Cost = 0.08712118119001389, W = [1.6259409189224243, 3.0674870014190674], b = -3.3864777088165283\n",
      "Epoch 500: Cost = 0.04477297514677048, W = [1.7316036224365234, 3.0485548973083496], b = -3.5603432655334473\n",
      "Epoch 600: Cost = 0.023009853437542915, W = [1.8075642585754395, 3.034827947616577], b = -3.6848363876342773\n",
      "Epoch 700: Cost = 0.011825117282569408, W = [1.8620431423187256, 3.024970293045044], b = -3.7740676403045654\n",
      "Epoch 800: Cost = 0.006077134981751442, W = [1.9011012315750122, 3.0179007053375244], b = -3.838033676147461\n",
      "Epoch 900: Cost = 0.003123207949101925, W = [1.9291009902954102, 3.0128324031829834], b = -3.8838882446289062\n",
      "Epoch 1000: Cost = 0.0016050856793299317, W = [1.9491734504699707, 3.009199380874634], b = -3.9167613983154297\n",
      "Epoch 1100: Cost = 0.0008248984813690186, W = [1.963563084602356, 3.0065951347351074], b = -3.9403274059295654\n",
      "Epoch 1200: Cost = 0.00042394758202135563, W = [1.973879098892212, 3.004727840423584], b = -3.957221269607544\n",
      "Epoch 1300: Cost = 0.0002178865543100983, W = [1.981274127960205, 3.003389358520508], b = -3.969331979751587\n",
      "Epoch 1400: Cost = 0.00011197351705050096, W = [1.9865752458572388, 3.0024302005767822], b = -3.9780149459838867\n",
      "Epoch 1500: Cost = 5.7547487813280895e-05, W = [1.9903757572174072, 3.001742124557495], b = -3.984238624572754\n",
      "Epoch 1600: Cost = 2.9573082429124042e-05, W = [1.993100643157959, 3.001248836517334], b = -3.988701343536377\n",
      "Epoch 1700: Cost = 1.5198545952443965e-05, W = [1.9950536489486694, 3.0008955001831055], b = -3.9918999671936035\n",
      "Epoch 1800: Cost = 7.80975642555859e-06, W = [1.9964542388916016, 3.0006418228149414], b = -3.9941935539245605\n",
      "Epoch 1900: Cost = 4.013045781903202e-06, W = [1.9974581003189087, 3.000460147857666], b = -3.995837688446045\n",
      "Epoch 2000: Cost = 2.0632558062061435e-06, W = [1.9981778860092163, 3.0003297328948975], b = -3.9970157146453857\n",
      "Epoch 2100: Cost = 1.0604902627164847e-06, W = [1.998693585395813, 3.0002362728118896], b = -3.9978604316711426\n",
      "Epoch 2200: Cost = 5.450960998132359e-07, W = [1.99906325340271, 3.000169515609741], b = -3.9984662532806396\n",
      "Epoch 2300: Cost = 2.802397034429305e-07, W = [1.99932861328125, 3.0001213550567627], b = -3.9989001750946045\n",
      "Epoch 2400: Cost = 1.4440779239066615e-07, W = [1.9995180368423462, 3.0000874996185303], b = -3.999211072921753\n",
      "Epoch 2500: Cost = 7.42115062735138e-08, W = [1.9996541738510132, 3.0000624656677246], b = -3.999433755874634\n",
      "Epoch 2600: Cost = 3.8266254165364444e-08, W = [1.9997522830963135, 3.000044584274292], b = -3.99959397315979\n",
      "Epoch 2700: Cost = 1.9808942042232047e-08, W = [1.9998220205307007, 3.0000321865081787], b = -3.9997076988220215\n",
      "Epoch 2800: Cost = 1.0268945693781006e-08, W = [1.9998716115951538, 3.000023126602173], b = -3.999789237976074\n",
      "Epoch 2900: Cost = 5.425704330264125e-09, W = [1.9999067783355713, 3.000016689300537], b = -3.9998462200164795\n",
      "Epoch 3000: Cost = 2.796949116756764e-09, W = [1.9999314546585083, 3.0000133514404297], b = -3.9998910427093506\n"
     ]
    }
   ],
   "source": [
    "import torch\n",
    "\n",
    "x_train = torch.FloatTensor([[1, 2], [3, 2], [3, 7], [1, 1], [1, 0]])\n",
    "y_train = torch.FloatTensor([[4], [8], [23], [1], [-2]])\n",
    "\n",
    "W = torch.randn(2, 1)\n",
    "b = torch.randn(1, 1)\n",
    "print(W, b)\n",
    "\n",
    "lr = 0.01\n",
    "\n",
    "for epoch in range(3001):\n",
    "    W.requires_grad_(True)\n",
    "    b.requires_grad_(True)\n",
    "\n",
    "    h = x_train @ W + b\n",
    "    cost = ((y_train - h)**2).mean()\n",
    "\n",
    "    cost.backward()\n",
    "\n",
    "    with torch.no_grad():\n",
    "        W = W - lr * W.grad\n",
    "        b = b - lr * b.grad\n",
    "\n",
    "        if epoch % 100 == 0:\n",
    "            print(f'Epoch {epoch}: Cost = {cost.item()}, W = {W.squeeze().tolist()}, b = {b.squeeze().item()}')\n"
   ]
  },
  {
   "cell_type": "code",
   "execution_count": 11,
   "metadata": {},
   "outputs": [
    {
     "name": "stdout",
     "output_type": "stream",
     "text": [
      "tensor([[35.9999],\n",
      "        [21.0001],\n",
      "        [32.0000]])\n"
     ]
    }
   ],
   "source": [
    "x_test = torch.FloatTensor([[5, 10], [2, 7], [3, 10]])\n",
    "\n",
    "y_test = x_test @ W + b\n",
    "print(y_test)"
   ]
  },
  {
   "cell_type": "markdown",
   "metadata": {},
   "source": [
    "## Linear Regression with Scikit-learn"
   ]
  },
  {
   "cell_type": "code",
   "execution_count": 12,
   "metadata": {},
   "outputs": [
    {
     "name": "stdout",
     "output_type": "stream",
     "text": [
      "[[2. 3.]] [-4.]\n"
     ]
    }
   ],
   "source": [
    "from sklearn.linear_model import LinearRegression\n",
    "\n",
    "x = [[1, 2], [3, 2], [3 ,7], [1, 1], [1, 0]]\n",
    "y = [[4], [8], [23], [1], [-2]]\n",
    "\n",
    "lr = LinearRegression() # 모델 생성\n",
    "lr.fit(x, y) # 학습 (피팅)\n",
    "\n",
    "print(lr.coef_, lr.intercept_)"
   ]
  },
  {
   "cell_type": "code",
   "execution_count": 13,
   "metadata": {},
   "outputs": [
    {
     "name": "stdout",
     "output_type": "stream",
     "text": [
      "[[36.]\n",
      " [21.]\n",
      " [25.]]\n"
     ]
    }
   ],
   "source": [
    "x_test = [[5, 10], [2, 7], [10, 3]]\n",
    "y_test = lr.predict(x_test)\n",
    "print(y_test)"
   ]
  },
  {
   "cell_type": "markdown",
   "metadata": {},
   "source": [
    "# L04.1 Logistic Regression Practice"
   ]
  },
  {
   "cell_type": "code",
   "execution_count": 14,
   "metadata": {},
   "outputs": [],
   "source": [
    "import torch\n",
    "\n",
    "x_train = torch.FloatTensor([[1], [2], [3], [4], [5], [2.5], [3.5], [0], [3.1], [2.7], [2.8], [2.9]])\n",
    "y_train = torch.FloatTensor([[1],[1],[1],[0],[0],[0],[0],[1],[0],[1],[1],[1]])"
   ]
  },
  {
   "cell_type": "code",
   "execution_count": 15,
   "metadata": {},
   "outputs": [
    {
     "name": "stdout",
     "output_type": "stream",
     "text": [
      "Epoch 0: Cost = 1.684381365776062, W = 0.29679399728775024, b = -0.5576716661453247\n",
      "Epoch 100: Cost = 0.42231765389442444, W = -1.4192560911178589, b = 4.308471202850342\n",
      "Epoch 200: Cost = 0.3993443548679352, W = -1.8807520866394043, b = 5.720011234283447\n",
      "Epoch 300: Cost = 0.39109599590301514, W = -2.1624886989593506, b = 6.573801040649414\n",
      "Epoch 400: Cost = 0.3871525228023529, W = -2.3587496280670166, b = 7.165768623352051\n",
      "Epoch 500: Cost = 0.3850063979625702, W = -2.504127025604248, b = 7.6030073165893555\n",
      "Epoch 600: Cost = 0.3837484121322632, W = -2.615719795227051, b = 7.937989711761475\n",
      "Epoch 700: Cost = 0.38297465443611145, W = -2.7033843994140625, b = 8.200782775878906\n",
      "Epoch 800: Cost = 0.3824829161167145, W = -2.773369312286377, b = 8.410362243652344\n",
      "Epoch 900: Cost = 0.3821626603603363, W = -2.8299002647399902, b = 8.579521179199219\n",
      "Epoch 1000: Cost = 0.3819502890110016, W = -2.875969886779785, b = 8.717293739318848\n",
      "Epoch 1100: Cost = 0.38180744647979736, W = -2.9137661457061768, b = 8.830268859863281\n",
      "Epoch 1200: Cost = 0.38171032071113586, W = -2.9449450969696045, b = 8.923429489135742\n",
      "Epoch 1300: Cost = 0.38164374232292175, W = -2.9707694053649902, b = 9.000566482543945\n",
      "Epoch 1400: Cost = 0.38159796595573425, W = -2.9922332763671875, b = 9.064661979675293\n",
      "Epoch 1500: Cost = 0.38156595826148987, W = -3.010125160217285, b = 9.118081092834473\n",
      "Epoch 1600: Cost = 0.38154375553131104, W = -3.025071382522583, b = 9.162696838378906\n",
      "Epoch 1700: Cost = 0.3815281093120575, W = -3.0375802516937256, b = 9.200030326843262\n",
      "Epoch 1800: Cost = 0.3815171718597412, W = -3.048064708709717, b = 9.231319427490234\n",
      "Epoch 1900: Cost = 0.3815094232559204, W = -3.056863784790039, b = 9.257575988769531\n",
      "Epoch 2000: Cost = 0.381504088640213, W = -3.064255714416504, b = 9.279632568359375\n"
     ]
    }
   ],
   "source": [
    "import math\n",
    "\n",
    "w = torch.randn(1, 1)\n",
    "b = torch.randn(1, 1)\n",
    "\n",
    "lr = 1.0\n",
    "\n",
    "for epoch in range(2001):\n",
    "    w.requires_grad_(True)\n",
    "    b.requires_grad_(True)\n",
    "\n",
    "    h = torch.sigmoid(x_train @ w + b)\n",
    "    #h = 1 / (1 + math.e ** (-(x_train @ w + b)))\n",
    "\n",
    "    cost = torch.mean(-y_train * torch.log(h) - (1-y_train) * torch.log(1-h))  # BCE\n",
    "\n",
    "    cost.backward()\n",
    "\n",
    "    with torch.no_grad():\n",
    "        w = w - lr * w.grad\n",
    "        b = b - lr * b.grad\n",
    "\n",
    "        if epoch % 100 == 0:\n",
    "            print(f'Epoch {epoch}: Cost = {cost.item()}, W = {w.squeeze().tolist()}, b = {b.squeeze().item()}')"
   ]
  },
  {
   "cell_type": "code",
   "execution_count": 16,
   "metadata": {},
   "outputs": [
    {
     "name": "stdout",
     "output_type": "stream",
     "text": [
      "Epoch 0: Cost = 0.8460483551025391, W = -0.4619423747062683, b = -0.13109292089939117\n",
      "Epoch 100: Cost = 0.42047008872032166, W = -1.447409987449646, b = 4.3950090408325195\n",
      "Epoch 200: Cost = 0.3987967073917389, W = -1.896276593208313, b = 5.7671966552734375\n",
      "Epoch 300: Cost = 0.3908538520336151, W = -2.1728758811950684, b = 6.6051836013793945\n",
      "Epoch 400: Cost = 0.38702622056007385, W = -2.366278886795044, b = 7.188438892364502\n",
      "Epoch 500: Cost = 0.38493427634239197, W = -2.50982928276062, b = 7.620137691497803\n",
      "Epoch 600: Cost = 0.38370481133461, W = -2.62015962600708, b = 7.951305866241455\n",
      "Epoch 700: Cost = 0.3829473555088043, W = -2.706906795501709, b = 8.211335182189941\n",
      "Epoch 800: Cost = 0.3824652135372162, W = -2.776202440261841, b = 8.418843269348145\n",
      "Epoch 900: Cost = 0.3821509778499603, W = -2.832200765609741, b = 8.586403846740723\n",
      "Epoch 1000: Cost = 0.38194242119789124, W = -2.877850294113159, b = 8.722914695739746\n",
      "Epoch 1100: Cost = 0.38180220127105713, W = -2.9153144359588623, b = 8.834896087646484\n",
      "Epoch 1200: Cost = 0.3817068040370941, W = -2.946225643157959, b = 8.927254676818848\n",
      "Epoch 1300: Cost = 0.38164129853248596, W = -2.971832513809204, b = 9.003741264343262\n",
      "Epoch 1400: Cost = 0.38159605860710144, W = -2.9931187629699707, b = 9.067306518554688\n",
      "Epoch 1500: Cost = 0.3815648555755615, W = -3.010862350463867, b = 9.120281219482422\n",
      "Epoch 1600: Cost = 0.3815429210662842, W = -3.0256881713867188, b = 9.16453742980957\n",
      "Epoch 1700: Cost = 0.38152754306793213, W = -3.0380966663360596, b = 9.201571464538574\n",
      "Epoch 1800: Cost = 0.38151684403419495, W = -3.0484986305236816, b = 9.232614517211914\n",
      "Epoch 1900: Cost = 0.3815091550350189, W = -3.0572268962860107, b = 9.258659362792969\n",
      "Epoch 2000: Cost = 0.3815038204193115, W = -3.064560890197754, b = 9.280542373657227\n"
     ]
    }
   ],
   "source": [
    "bce = torch.nn.BCELoss()\n",
    "\n",
    "w = torch.randn(1, 1)\n",
    "b = torch.randn(1, 1)\n",
    "\n",
    "lr = 1.0\n",
    "\n",
    "for epoch in range(2001):\n",
    "    w.requires_grad_(True)\n",
    "    b.requires_grad_(True)\n",
    "\n",
    "    h = torch.sigmoid(x_train @ w + b)\n",
    "\n",
    "    cost = bce(h, y_train)\n",
    "    cost.backward()\n",
    "\n",
    "    with torch.no_grad():\n",
    "        w = w - lr * w.grad\n",
    "        b = b - lr * b.grad\n",
    "\n",
    "        if epoch % 100 == 0:\n",
    "            print(f'Epoch {epoch}: Cost = {cost.item()}, W = {w.squeeze().tolist()}, b = {b.squeeze().item()}')"
   ]
  },
  {
   "cell_type": "code",
   "execution_count": 17,
   "metadata": {},
   "outputs": [
    {
     "name": "stdout",
     "output_type": "stream",
     "text": [
      "tensor([[0.0109],\n",
      "        [0.9973]])\n"
     ]
    }
   ],
   "source": [
    "x_test = torch.FloatTensor([[4.5],[1.1]])\n",
    "\n",
    "#test_result = torch.sigmoid(torch.mm(x_test, w) + b)\n",
    "test_result = torch.sigmoid(x_test @ w + b)\n",
    "\n",
    "print(test_result)"
   ]
  },
  {
   "cell_type": "code",
   "execution_count": 18,
   "metadata": {},
   "outputs": [
    {
     "data": {
      "image/png": "[encoded data removed]",
      "text/plain": [
       "<Figure size 640x480 with 1 Axes>"
      ]
     },
     "metadata": {},
     "output_type": "display_data"
    }
   ],
   "source": [
    "import matplotlib.pyplot as plt\n",
    "\n",
    "X = torch.linspace(0, 5, 100).unsqueeze(1)\n",
    "Y = torch.sigmoid(X@w + b)\n",
    "\n",
    "plt.scatter(x_train, y_train)\n",
    "plt.plot(X, Y, c='red')\n",
    "plt.show()"
   ]
  },
  {
   "cell_type": "code",
   "execution_count": 19,
   "metadata": {},
   "outputs": [
    {
     "name": "stdout",
     "output_type": "stream",
     "text": [
      "Epoch 0: Cost = 0.7806791663169861, W = 1.0136308670043945, b = 0.4170365333557129\n",
      "Epoch 100: Cost = 0.3822995126247406, W = -2.815603733062744, b = 8.524229049682617\n",
      "Epoch 200: Cost = 0.38150203227996826, W = -3.06817364692688, b = 9.291478157043457\n",
      "Epoch 300: Cost = 0.3814907371997833, W = -3.1019155979156494, b = 9.391989707946777\n",
      "Epoch 400: Cost = 0.3814908564090729, W = -3.103821277618408, b = 9.397658348083496\n",
      "Epoch 500: Cost = 0.3814908266067505, W = -3.103851556777954, b = 9.397749900817871\n",
      "Epoch 600: Cost = 0.3814907371997833, W = -3.103851795196533, b = 9.397749900817871\n",
      "Epoch 700: Cost = 0.3814907371997833, W = -3.1038520336151123, b = 9.397749900817871\n",
      "Epoch 800: Cost = 0.3814908266067505, W = -3.103851556777954, b = 9.397749900817871\n",
      "Epoch 900: Cost = 0.3814907371997833, W = -3.103851795196533, b = 9.397749900817871\n",
      "Epoch 1000: Cost = 0.3814907371997833, W = -3.103851795196533, b = 9.397749900817871\n",
      "Epoch 1100: Cost = 0.3814907371997833, W = -3.103851795196533, b = 9.397749900817871\n",
      "Epoch 1200: Cost = 0.3814907371997833, W = -3.103851795196533, b = 9.397749900817871\n",
      "Epoch 1300: Cost = 0.3814907371997833, W = -3.103851795196533, b = 9.397749900817871\n",
      "Epoch 1400: Cost = 0.3814907371997833, W = -3.103851795196533, b = 9.397749900817871\n",
      "Epoch 1500: Cost = 0.3814907371997833, W = -3.103851795196533, b = 9.397749900817871\n",
      "Epoch 1600: Cost = 0.3814907371997833, W = -3.103851795196533, b = 9.397749900817871\n",
      "Epoch 1700: Cost = 0.3814907371997833, W = -3.103851795196533, b = 9.397749900817871\n",
      "Epoch 1800: Cost = 0.3814907371997833, W = -3.103851795196533, b = 9.397749900817871\n",
      "Epoch 1900: Cost = 0.3814907371997833, W = -3.103851795196533, b = 9.397749900817871\n",
      "Epoch 2000: Cost = 0.3814907371997833, W = -3.103851795196533, b = 9.397749900817871\n"
     ]
    }
   ],
   "source": [
    "bce = torch.nn.BCELoss()\n",
    "\n",
    "w = torch.randn(1, 1, requires_grad=True)\n",
    "b = torch.randn(1, 1, requires_grad=True)\n",
    "\n",
    "optimizer = torch.optim.Adam([w, b], lr=1.0)\n",
    "\n",
    "for epoch in range(2001):\n",
    "\n",
    "    h = torch.sigmoid(x_train @ w + b)\n",
    "    cost = bce(h, y_train)\n",
    "    \n",
    "    optimizer.zero_grad()\n",
    "    cost.backward()\n",
    "    optimizer.step()\n",
    "\n",
    "    with torch.no_grad():\n",
    "        if epoch % 100 == 0:\n",
    "            print(f'Epoch {epoch}: Cost = {cost.item()}, W = {w.squeeze().tolist()}, b = {b.squeeze().item()}')"
   ]
  },
  {
   "cell_type": "markdown",
   "metadata": {},
   "source": [
    "## sklearn에서LogisticRegression사용"
   ]
  },
  {
   "cell_type": "code",
   "execution_count": 20,
   "metadata": {},
   "outputs": [
    {
     "name": "stdout",
     "output_type": "stream",
     "text": [
      "[[-3.10428163]] [9.39919938]\n",
      "[0 1]\n"
     ]
    }
   ],
   "source": [
    "from sklearn.linear_model import LogisticRegression\n",
    "\n",
    "x_train = [[1],[2],[3],[4],[5],[2.5],[3.5],[0],[3.1],[2.7],[2.8],[2.9]]\n",
    "y_train = [1,1,1,0,0,0,0,1,0,1,1,1] \n",
    "\n",
    "model = LogisticRegression(penalty=None)\n",
    "model.fit(x_train,y_train)\n",
    "\n",
    "print(model.coef_, model.intercept_)\n",
    "\n",
    "x_test = [[4.5], [1.1]]\n",
    "test_result = model.predict(x_test)\n",
    "print(test_result)\n",
    "\n"
   ]
  },
  {
   "cell_type": "markdown",
   "metadata": {},
   "source": [
    "# L06.1 Softmax Regression Practice"
   ]
  },
  {
   "cell_type": "code",
   "execution_count": 30,
   "metadata": {},
   "outputs": [],
   "source": [
    "import torch\n",
    "x_train = torch.FloatTensor([ [1,2,1,1], [2,1,3,2], [3,1,3,4], [4,1,5,5], [1,7,5,5],[1,2,5,6], [1,6,6,6], [1,7,7,7] ])\n",
    "y_train = torch.FloatTensor([ [0,0,1], [0,0,1], [0,0,1], [0,1,0], [0,1,0], [0,1,0], [1,0,0], [1,0,0] ])"
   ]
  },
  {
   "cell_type": "code",
   "execution_count": 31,
   "metadata": {},
   "outputs": [
    {
     "name": "stdout",
     "output_type": "stream",
     "text": [
      "tensor([[-1.4742, -0.3879,  0.3331],\n",
      "        [-1.7264, -0.9668,  0.6214],\n",
      "        [-0.9171,  0.1999, -0.8467],\n",
      "        [-1.5838,  1.7563,  0.0731]], requires_grad=True)\n",
      "tensor([[-0.8060,  0.7452, -0.2738]], requires_grad=True)\n"
     ]
    }
   ],
   "source": [
    "W = torch.randn(4, 3, requires_grad=True)\n",
    "b = torch.randn(1, 3, requires_grad=True)\n",
    "print(W)\n",
    "print(b)\n",
    "\n",
    "optimizer = torch.optim.Adam([W, b], lr=0.1)"
   ]
  },
  {
   "cell_type": "code",
   "execution_count": 32,
   "metadata": {},
   "outputs": [
    {
     "name": "stdout",
     "output_type": "stream",
     "text": [
      "epoch: 0, cost: 10.677729\n",
      "epoch: 100, cost: 0.361586\n",
      "epoch: 200, cost: 0.263240\n",
      "epoch: 300, cost: 0.197887\n",
      "epoch: 400, cost: 0.152961\n",
      "epoch: 500, cost: 0.121566\n",
      "epoch: 600, cost: 0.098918\n",
      "epoch: 700, cost: 0.082033\n",
      "epoch: 800, cost: 0.069085\n",
      "epoch: 900, cost: 0.058923\n",
      "epoch: 1000, cost: 0.050792\n",
      "epoch: 1100, cost: 0.044184\n",
      "epoch: 1200, cost: 0.038739\n",
      "epoch: 1300, cost: 0.034200\n",
      "epoch: 1400, cost: 0.030378\n",
      "epoch: 1500, cost: 0.027129\n",
      "epoch: 1600, cost: 0.024346\n",
      "epoch: 1700, cost: 0.021943\n",
      "epoch: 1800, cost: 0.019856\n",
      "epoch: 1900, cost: 0.018031\n",
      "epoch: 2000, cost: 0.016427\n",
      "epoch: 2100, cost: 0.015010\n",
      "epoch: 2200, cost: 0.013752\n",
      "epoch: 2300, cost: 0.012631\n",
      "epoch: 2400, cost: 0.011627\n",
      "epoch: 2500, cost: 0.010726\n",
      "epoch: 2600, cost: 0.009913\n",
      "epoch: 2700, cost: 0.009179\n",
      "epoch: 2800, cost: 0.008513\n",
      "epoch: 2900, cost: 0.007907\n",
      "epoch: 3000, cost: 0.007355\n"
     ]
    }
   ],
   "source": [
    "for epoch in range(3001):\n",
    "    h = torch.softmax(torch.mm(x_train, W)+b, dim=1)\n",
    "    cost = -torch.mean(torch.sum(y_train * torch.log(h), dim=1))  # dim은 가로를 1로 할 것인지 세로를 1로 할 것인지 결정함\n",
    "\n",
    "    optimizer.zero_grad()\n",
    "    cost.backward()\n",
    "    optimizer.step()\n",
    "\n",
    "    with torch.no_grad():\n",
    "        if epoch % 100 == 0:\n",
    "            print(\"epoch: {}, cost: {:.6f}\".format(epoch, cost.item()))"
   ]
  },
  {
   "cell_type": "code",
   "execution_count": 24,
   "metadata": {},
   "outputs": [
    {
     "name": "stdout",
     "output_type": "stream",
     "text": [
      "tensor([[1.0000e+00, 2.7023e-17, 1.7591e-35],\n",
      "        [6.2918e-03, 8.5004e-01, 1.4367e-01],\n",
      "        [4.4188e-31, 3.7758e-11, 1.0000e+00]])\n",
      "tensor([0, 1, 2])\n"
     ]
    }
   ],
   "source": [
    "W.requires_grad_(False)\n",
    "b.requires_grad_(False)\n",
    "\n",
    "x_test = torch.FloatTensor([[1,11,10,9], [1,3,4,3], [1,1,0,1]])\n",
    "test_all = torch.softmax(torch.mm(x_test, W)+b, dim=1)\n",
    "print(test_all)\n",
    "print(torch.argmax(test_all, dim=1))"
   ]
  },
  {
   "cell_type": "code",
   "execution_count": 34,
   "metadata": {},
   "outputs": [
    {
     "data": {
      "text/plain": [
       "tensor([3, 3])"
      ]
     },
     "execution_count": 34,
     "metadata": {},
     "output_type": "execute_result"
    }
   ],
   "source": [
    "a = torch.tensor([[1, 3, 2, 6, 4], [7, 2, 3, 9, 8]], dtype=torch.float)\n",
    "torch.argmax(a, dim=1)"
   ]
  },
  {
   "cell_type": "code",
   "execution_count": 39,
   "metadata": {},
   "outputs": [
    {
     "name": "stdout",
     "output_type": "stream",
     "text": [
      "epoch: 0, cost: 10.404158\n",
      "epoch: 100, cost: 0.372091\n",
      "epoch: 200, cost: 0.262537\n",
      "epoch: 300, cost: 0.190108\n",
      "epoch: 400, cost: 0.143506\n",
      "epoch: 500, cost: 0.112316\n",
      "epoch: 600, cost: 0.090360\n",
      "epoch: 700, cost: 0.074244\n",
      "epoch: 800, cost: 0.062029\n",
      "epoch: 900, cost: 0.052537\n",
      "epoch: 1000, cost: 0.045011\n",
      "epoch: 1100, cost: 0.038946\n",
      "epoch: 1200, cost: 0.033986\n",
      "epoch: 1300, cost: 0.029881\n",
      "epoch: 1400, cost: 0.026445\n",
      "epoch: 1500, cost: 0.023543\n",
      "epoch: 1600, cost: 0.021068\n",
      "epoch: 1700, cost: 0.018942\n",
      "epoch: 1800, cost: 0.017103\n",
      "epoch: 1900, cost: 0.015501\n",
      "epoch: 2000, cost: 0.014098\n",
      "epoch: 2100, cost: 0.012862\n",
      "epoch: 2200, cost: 0.011768\n",
      "epoch: 2300, cost: 0.010795\n",
      "epoch: 2400, cost: 0.009927\n",
      "epoch: 2500, cost: 0.009148\n",
      "epoch: 2600, cost: 0.008448\n",
      "epoch: 2700, cost: 0.007815\n",
      "epoch: 2800, cost: 0.007243\n",
      "epoch: 2900, cost: 0.006723\n",
      "epoch: 3000, cost: 0.006250\n"
     ]
    }
   ],
   "source": [
    "import torch.nn.functional as F\n",
    "import torch\n",
    "\n",
    "x_train = torch.FloatTensor([[1,2,1,1], [2,1,3,2], [3,1,3,4], [4,1,5,5], [1,7,5,5], [1,2,5,6], [1,6,6,6], [1,7,7,7]])\n",
    "y_train = torch.LongTensor([2,2,2,1,1,1,0,0])\n",
    "\n",
    "W = torch.randn(4, 3 ,requires_grad=True)  \n",
    "b = torch.randn(1, 3, requires_grad=True)\n",
    "\n",
    "optimizer = torch.optim.Adam([W, b], lr=0.1)\n",
    "\n",
    "for epoch in range(3001):\n",
    "    h = torch.mm(x_train, W) + b\n",
    "    cost = F.cross_entropy(h, y_train)\n",
    "\n",
    "    optimizer.zero_grad()\n",
    "    cost.backward()\n",
    "    optimizer.step()\n",
    "\n",
    "    with torch.no_grad():\n",
    "        if epoch % 100 == 0:\n",
    "            print(\"epoch: {}, cost: {:.6f}\".format(epoch, cost.item()))\n"
   ]
  },
  {
   "cell_type": "code",
   "execution_count": 40,
   "metadata": {},
   "outputs": [
    {
     "name": "stdout",
     "output_type": "stream",
     "text": [
      "epoch: 0, cost: 2.425158\n",
      "epoch: 100, cost: 0.319835\n",
      "epoch: 200, cost: 0.194931\n",
      "epoch: 300, cost: 0.129679\n",
      "epoch: 400, cost: 0.092538\n",
      "epoch: 500, cost: 0.069399\n",
      "epoch: 600, cost: 0.053990\n",
      "epoch: 700, cost: 0.043206\n",
      "epoch: 800, cost: 0.035360\n",
      "epoch: 900, cost: 0.029470\n",
      "epoch: 1000, cost: 0.024932\n",
      "epoch: 1100, cost: 0.021360\n",
      "epoch: 1200, cost: 0.018496\n",
      "epoch: 1300, cost: 0.016162\n",
      "epoch: 1400, cost: 0.014234\n",
      "epoch: 1500, cost: 0.012623\n",
      "epoch: 1600, cost: 0.011261\n",
      "epoch: 1700, cost: 0.010100\n",
      "epoch: 1800, cost: 0.009101\n",
      "epoch: 1900, cost: 0.008235\n",
      "epoch: 2000, cost: 0.007480\n",
      "epoch: 2100, cost: 0.006817\n",
      "epoch: 2200, cost: 0.006232\n",
      "epoch: 2300, cost: 0.005713\n",
      "epoch: 2400, cost: 0.005251\n",
      "epoch: 2500, cost: 0.004837\n",
      "epoch: 2600, cost: 0.004465\n",
      "epoch: 2700, cost: 0.004130\n",
      "epoch: 2800, cost: 0.003827\n",
      "epoch: 2900, cost: 0.003552\n",
      "epoch: 3000, cost: 0.003302\n"
     ]
    }
   ],
   "source": [
    "import torch.nn as nn\n",
    "\n",
    "x_train = torch.FloatTensor([[1,2,1,1], [2,1,3,2], [3,1,3,4], [4,1,5,5], [1,7,5,5], [1,2,5,6], [1,6,6,6], [1,7,7,7]])\n",
    "y_train = torch.LongTensor([2,2,2,1,1,1,0,0])\n",
    "\n",
    "model = nn.Linear(4, 3) # 입력: 4차원, 클래스 개수: 3개\n",
    "optimizer = torch.optim.Adam(model.parameters(), lr=0.1)\n",
    "\n",
    "for epoch in range(3001):\n",
    "    h = model(x_train)\n",
    "    cost = F.cross_entropy(h, y_train)\n",
    "\n",
    "    optimizer.zero_grad()\n",
    "    cost.backward()\n",
    "    optimizer.step()\n",
    "\n",
    "    with torch.no_grad():\n",
    "        if epoch % 100 == 0:\n",
    "            print(\"epoch: {}, cost: {:.6f}\".format(epoch, cost.item()))"
   ]
  },
  {
   "cell_type": "code",
   "execution_count": 42,
   "metadata": {},
   "outputs": [
    {
     "name": "stdout",
     "output_type": "stream",
     "text": [
      "Parameter containing:\n",
      "tensor([[-18.7836,  -0.9238,  13.0564,  -3.3200],\n",
      "        [  3.7991,  -0.0686,  -0.8083,   1.6024],\n",
      "        [  5.3276,   0.2555,  -6.5349,   0.1571]], requires_grad=True)\n",
      "Parameter containing:\n",
      "tensor([-27.2885,  -6.1013,  17.5326], requires_grad=True)\n"
     ]
    }
   ],
   "source": [
    "for a in model.parameters():\n",
    "    print(a)"
   ]
  },
  {
   "cell_type": "code",
   "execution_count": 43,
   "metadata": {},
   "outputs": [
    {
     "name": "stdout",
     "output_type": "stream",
     "text": [
      "[0 2 2]\n"
     ]
    }
   ],
   "source": [
    "import numpy as np\n",
    "from sklearn.linear_model import LogisticRegression\n",
    "\n",
    "x_train = np.array([ [1,2,1,1], [2,1,3,2], [3,1,3,4], [4,1,5,5], [1,7,5,5], [ 1,2,5,6], [1,6,6,6], [1,7,7,7] ])\n",
    " # y에 0, 1, 2 등 둘 이상의 class가 존재 => softmax regression\n",
    "y_train = np.array([ 2, 2, 2, 1, 1, 1, 0, 0 ])\n",
    "\n",
    "logistic = LogisticRegression() # 모델 생성\n",
    "logistic.fit(x_train, y_train) # 학습\n",
    "\n",
    "pred = logistic.predict([[1,11,10,9], [1,3,4,3], [1,1,0,1]])\n",
    "print(pred)"
   ]
  },
  {
   "cell_type": "code",
   "execution_count": null,
   "metadata": {},
   "outputs": [],
   "source": []
  }
 ],
 "metadata": {
  "kernelspec": {
   "display_name": ".venv",
   "language": "python",
   "name": "python3"
  },
  "language_info": {
   "codemirror_mode": {
    "name": "ipython",
    "version": 3
   },
   "file_extension": ".py",
   "mimetype": "text/x-python",
   "name": "python",
   "nbconvert_exporter": "python",
   "pygments_lexer": "ipython3",
   "version": "3.11.9"
  }
 },
 "nbformat": 4,
 "nbformat_minor": 2
}

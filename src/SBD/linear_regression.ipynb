{
 "cells": [
  {
   "cell_type": "markdown",
   "metadata": {},
   "source": [
    "# L03.1 Linear Regression Practice"
   ]
  },
  {
   "cell_type": "code",
   "execution_count": 2,
   "metadata": {},
   "outputs": [
    {
     "name": "stdout",
     "output_type": "stream",
     "text": [
      "torch.LongTensor\n",
      "tensor([[1, 2, 3],\n",
      "        [4, 5, 6],\n",
      "        [7, 8, 9]])\n"
     ]
    }
   ],
   "source": [
    "import torch\n",
    "\n",
    "x = torch.tensor([[1, 2, 3],[4, 5, 6], [7, 8, 9]])\n",
    "print(x.type())\n",
    "print(x)"
   ]
  },
  {
   "cell_type": "code",
   "execution_count": 3,
   "metadata": {},
   "outputs": [
    {
     "name": "stdout",
     "output_type": "stream",
     "text": [
      "torch.Size([3, 3])\n",
      "torch.Size([3, 3])\n",
      "2\n"
     ]
    }
   ],
   "source": [
    "print(x.size())\n",
    "print(x.shape)\n",
    "print(x.ndimension())"
   ]
  },
  {
   "cell_type": "code",
   "execution_count": 4,
   "metadata": {},
   "outputs": [
    {
     "name": "stdout",
     "output_type": "stream",
     "text": [
      "torch.Size([3, 2, 2])\n",
      "3\n"
     ]
    }
   ],
   "source": [
    "y = torch.FloatTensor([[[1, 2], [3, 4]], [[5, 6], [7, 8]], [[1, 2], [3, 4]]])\n",
    "print(y.shape)\n",
    "print(y.ndimension()) # == len(y.shape)"
   ]
  },
  {
   "cell_type": "code",
   "execution_count": 5,
   "metadata": {},
   "outputs": [
    {
     "name": "stdout",
     "output_type": "stream",
     "text": [
      "tensor([[[1., 2.],\n",
      "         [3., 4.]],\n",
      "\n",
      "        [[5., 6.],\n",
      "         [7., 8.]],\n",
      "\n",
      "        [[1., 2.],\n",
      "         [3., 4.]]])\n",
      "origianl shape:  torch.Size([3, 2, 2])\n",
      "tensor([[[[1., 2.],\n",
      "          [3., 4.]],\n",
      "\n",
      "         [[5., 6.],\n",
      "          [7., 8.]],\n",
      "\n",
      "         [[1., 2.],\n",
      "          [3., 4.]]]])\n",
      "unsqueeze(0):  torch.Size([1, 3, 2, 2])\n"
     ]
    }
   ],
   "source": [
    "print(y)\n",
    "print(\"origianl shape: \", y.shape)\n",
    "\n",
    "y0 =y.unsqueeze(0)\n",
    "print(y0)\n",
    "print(\"unsqueeze(0): \", y0.shape)"
   ]
  },
  {
   "cell_type": "code",
   "execution_count": 6,
   "metadata": {},
   "outputs": [
    {
     "name": "stdout",
     "output_type": "stream",
     "text": [
      "tensor([[[[1., 2.],\n",
      "          [3., 4.]],\n",
      "\n",
      "         [[5., 6.],\n",
      "          [7., 8.]],\n",
      "\n",
      "         [[1., 2.],\n",
      "          [3., 4.]]]])\n",
      "tensor([[[[1., 2.],\n",
      "          [3., 4.]]],\n",
      "\n",
      "\n",
      "        [[[5., 6.],\n",
      "          [7., 8.]]],\n",
      "\n",
      "\n",
      "        [[[1., 2.],\n",
      "          [3., 4.]]]])\n",
      "tensor([[[[1., 2.]],\n",
      "\n",
      "         [[3., 4.]]],\n",
      "\n",
      "\n",
      "        [[[5., 6.]],\n",
      "\n",
      "         [[7., 8.]]],\n",
      "\n",
      "\n",
      "        [[[1., 2.]],\n",
      "\n",
      "         [[3., 4.]]]])\n",
      "tensor([[[[1.],\n",
      "          [2.]],\n",
      "\n",
      "         [[3.],\n",
      "          [4.]]],\n",
      "\n",
      "\n",
      "        [[[5.],\n",
      "          [6.]],\n",
      "\n",
      "         [[7.],\n",
      "          [8.]]],\n",
      "\n",
      "\n",
      "        [[[1.],\n",
      "          [2.]],\n",
      "\n",
      "         [[3.],\n",
      "          [4.]]]])\n"
     ]
    }
   ],
   "source": [
    "x = torch.FloatTensor([[[1, 2], [3, 4]], [[5, 6], [7, 8]], [[1, 2], [3, 4]]])\n",
    "\n",
    "x0 = x.unsqueeze(0) # [3, 2, 2] --> [1, 3, 2, 2]\n",
    "x1 = x.unsqueeze(1) # [3, 2, 2] --> [3, 1, 2, 2]\n",
    "x2 = x.unsqueeze(2) # [3, 2, 2] --> [3, 2, 1, 2]\n",
    "x3 = x.unsqueeze(3) # [3, 2, 2] --> [3, 2, 2, 1]\n",
    "\n",
    "print(x0)\n",
    "print(x1)\n",
    "print(x2)\n",
    "print(x3)"
   ]
  },
  {
   "cell_type": "code",
   "execution_count": 7,
   "metadata": {},
   "outputs": [
    {
     "name": "stdout",
     "output_type": "stream",
     "text": [
      "torch.Size([3, 2, 2])\n"
     ]
    }
   ],
   "source": [
    "xt = x.unsqueeze(0).unsqueeze(1).unsqueeze(0).unsqueeze(5) # 1, 1, 1, 3, 2, 1, 2\n",
    "print(xt.squeeze().shape)"
   ]
  },
  {
   "cell_type": "code",
   "execution_count": 8,
   "metadata": {},
   "outputs": [
    {
     "data": {
      "text/plain": [
       "tensor([[1., 2., 3., 4.],\n",
       "        [5., 6., 7., 8.],\n",
       "        [1., 2., 3., 4.]])"
      ]
     },
     "execution_count": 8,
     "metadata": {},
     "output_type": "execute_result"
    }
   ],
   "source": [
    "x.view(3, -1)"
   ]
  },
  {
   "cell_type": "code",
   "execution_count": 9,
   "metadata": {},
   "outputs": [
    {
     "name": "stdout",
     "output_type": "stream",
     "text": [
      "tensor([[ 3.4734],\n",
      "        [ 7.3719],\n",
      "        [10.9609]])\n"
     ]
    }
   ],
   "source": [
    "x = torch.FloatTensor([[1, 2], [3, 4], [5, 6]]) # 3 x 2\n",
    "w = torch.rand(1, 2, dtype=torch.float)  # 2 x 1\n",
    "b = torch.rand(3, 1, dtype=torch.float)\n",
    "\n",
    "print(x @ w.T + b)"
   ]
  },
  {
   "cell_type": "code",
   "execution_count": 10,
   "metadata": {},
   "outputs": [
    {
     "name": "stdout",
     "output_type": "stream",
     "text": [
      "tensor(72.)\n"
     ]
    }
   ],
   "source": [
    "w = torch.tensor(4.0, requires_grad=True)\n",
    "a = w*3\n",
    "l = a**2\n",
    "l.backward()\n",
    "print(w.grad)"
   ]
  },
  {
   "cell_type": "markdown",
   "metadata": {},
   "source": [
    "## Linear Regression 실습"
   ]
  },
  {
   "cell_type": "code",
   "execution_count": 11,
   "metadata": {},
   "outputs": [
    {
     "name": "stdout",
     "output_type": "stream",
     "text": [
      "tensor([[ 2.4372],\n",
      "        [-0.8500]]) tensor([[0.6085]])\n",
      "Epoch 0: Cost = 95.86886596679688, W = [2.6965901851654053, -0.23044425249099731], b = 0.6853632926940918\n",
      "Epoch 100: Cost = 1.229596734046936, W = [1.1212685108184814, 2.965062141418457], b = -1.7347288131713867\n",
      "Epoch 200: Cost = 0.48948830366134644, W = [1.1559178829193115, 3.130801200866699], b = -2.5240485668182373\n",
      "Epoch 300: Cost = 0.24972927570343018, W = [1.3706326484680176, 3.1114258766174316], b = -2.9586830139160156\n",
      "Epoch 400: Cost = 0.12831704318523407, W = [1.5460699796676636, 3.0818793773651123], b = -3.2553985118865967\n",
      "Epoch 500: Cost = 0.06594415754079819, W = [1.6742745637893677, 3.058924436569214], b = -3.4664249420166016\n",
      "Epoch 600: Cost = 0.033889882266521454, W = [1.7664583921432495, 3.0422675609588623], b = -3.6175148487091064\n",
      "Epoch 700: Cost = 0.01741660386323929, W = [1.8325746059417725, 3.030303478240967], b = -3.725806713104248\n",
      "Epoch 800: Cost = 0.00895078293979168, W = [1.8799750804901123, 3.021724224090576], b = -3.8034355640411377\n",
      "Epoch 900: Cost = 0.004599979147315025, W = [1.913956642150879, 3.015573740005493], b = -3.859086513519287\n",
      "Epoch 1000: Cost = 0.002364041283726692, W = [1.938317060470581, 3.011164426803589], b = -3.8989810943603516\n",
      "Epoch 1100: Cost = 0.001214930322021246, W = [1.9557803869247437, 3.0080037117004395], b = -3.927581548690796\n",
      "Epoch 1200: Cost = 0.0006243616808205843, W = [1.9682998657226562, 3.005737781524658], b = -3.948084831237793\n",
      "Epoch 1300: Cost = 0.0003208582056686282, W = [1.9772752523422241, 3.00411319732666], b = -3.9627838134765625\n",
      "Epoch 1400: Cost = 0.0001648944162297994, W = [1.9837093353271484, 3.002948522567749], b = -3.973320484161377\n",
      "Epoch 1500: Cost = 8.473200432490557e-05, W = [1.9883211851119995, 3.0021142959594727], b = -3.980875253677368\n",
      "Epoch 1600: Cost = 4.354365955805406e-05, W = [1.9916281700134277, 3.0015153884887695], b = -3.9862899780273438\n",
      "Epoch 1700: Cost = 2.237824628537055e-05, W = [1.9939985275268555, 3.0010862350463867], b = -3.990171194076538\n",
      "Epoch 1800: Cost = 1.1499580068630166e-05, W = [1.9956977367401123, 3.000778913497925], b = -3.992954730987549\n",
      "Epoch 1900: Cost = 5.909747869736748e-06, W = [1.996915578842163, 3.000558376312256], b = -3.9949495792388916\n",
      "Epoch 2000: Cost = 3.037174110431806e-06, W = [1.9977887868881226, 3.0004000663757324], b = -3.9963791370391846\n",
      "Epoch 2100: Cost = 1.5606361785103218e-06, W = [1.9984146356582642, 3.0002872943878174], b = -3.9974043369293213\n",
      "Epoch 2200: Cost = 8.02627084794949e-07, W = [1.9988631010055542, 3.0002059936523438], b = -3.998138904571533\n",
      "Epoch 2300: Cost = 4.1256308236370387e-07, W = [1.9991849660873413, 3.000147819519043], b = -3.9986660480499268\n",
      "Epoch 2400: Cost = 2.1177856979193166e-07, W = [1.9994163513183594, 3.000105619430542], b = -3.9990437030792236\n",
      "Epoch 2500: Cost = 1.0917831616552576e-07, W = [1.9995803833007812, 3.0000765323638916], b = -3.999314546585083\n",
      "Epoch 2600: Cost = 5.618596787826391e-08, W = [1.9997000694274902, 3.000053644180298], b = -3.999506950378418\n",
      "Epoch 2700: Cost = 2.8942997332137566e-08, W = [1.9997844696044922, 3.0000386238098145], b = -3.999645948410034\n",
      "Epoch 2800: Cost = 1.4772891354652984e-08, W = [1.9998451471328735, 3.000028133392334], b = -3.9997475147247314\n",
      "Epoch 2900: Cost = 7.725350137377518e-09, W = [1.9998875856399536, 3.000020742416382], b = -3.9998185634613037\n",
      "Epoch 3000: Cost = 4.1543133377786035e-09, W = [1.9999173879623413, 3.0000154972076416], b = -3.999866247177124\n"
     ]
    }
   ],
   "source": [
    "import torch\n",
    "\n",
    "x_train = torch.FloatTensor([[1, 2], [3, 2], [3, 7], [1, 1], [1, 0]])\n",
    "y_train = torch.FloatTensor([[4], [8], [23], [1], [-2]])\n",
    "\n",
    "W = torch.randn(2, 1)\n",
    "b = torch.randn(1, 1)\n",
    "print(W, b)\n",
    "\n",
    "lr = 0.01\n",
    "\n",
    "for epoch in range(3001):\n",
    "    W.requires_grad_(True)\n",
    "    b.requires_grad_(True)\n",
    "\n",
    "    h = x_train @ W + b\n",
    "    cost = ((y_train - h)**2).mean()\n",
    "\n",
    "    cost.backward()\n",
    "\n",
    "    with torch.no_grad():\n",
    "        W = W - lr * W.grad\n",
    "        b = b - lr * b.grad\n",
    "\n",
    "        if epoch % 100 == 0:\n",
    "            print(f'Epoch {epoch}: Cost = {cost.item()}, W = {W.squeeze().tolist()}, b = {b.squeeze().item()}')\n"
   ]
  },
  {
   "cell_type": "code",
   "execution_count": 12,
   "metadata": {},
   "outputs": [
    {
     "name": "stdout",
     "output_type": "stream",
     "text": [
      "tensor([[35.9999],\n",
      "        [21.0001],\n",
      "        [32.0000]])\n"
     ]
    }
   ],
   "source": [
    "x_test = torch.FloatTensor([[5, 10], [2, 7], [3, 10]])\n",
    "\n",
    "y_test = x_test @ W + b\n",
    "print(y_test)"
   ]
  },
  {
   "cell_type": "markdown",
   "metadata": {},
   "source": [
    "## Linear Regression with Scikit-learn"
   ]
  },
  {
   "cell_type": "code",
   "execution_count": 13,
   "metadata": {},
   "outputs": [
    {
     "name": "stdout",
     "output_type": "stream",
     "text": [
      "[[2. 3.]] [-4.]\n"
     ]
    }
   ],
   "source": [
    "from sklearn.linear_model import LinearRegression\n",
    "\n",
    "x = [[1, 2], [3, 2], [3 ,7], [1, 1], [1, 0]]\n",
    "y = [[4], [8], [23], [1], [-2]]\n",
    "\n",
    "lr = LinearRegression() # 모델 생성\n",
    "lr.fit(x, y) # 학습 (피팅)\n",
    "\n",
    "print(lr.coef_, lr.intercept_)"
   ]
  },
  {
   "cell_type": "code",
   "execution_count": 14,
   "metadata": {},
   "outputs": [
    {
     "name": "stdout",
     "output_type": "stream",
     "text": [
      "[[36.]\n",
      " [21.]\n",
      " [25.]]\n"
     ]
    }
   ],
   "source": [
    "x_test = [[5, 10], [2, 7], [10, 3]]\n",
    "y_test = lr.predict(x_test)\n",
    "print(y_test)"
   ]
  },
  {
   "cell_type": "markdown",
   "metadata": {},
   "source": [
    "# L04.1 Logistic Regression Practice"
   ]
  },
  {
   "cell_type": "code",
   "execution_count": 15,
   "metadata": {},
   "outputs": [],
   "source": [
    "import torch\n",
    "\n",
    "x_train = torch.FloatTensor([[1], [2], [3], [4], [5], [2.5], [3.5], [0], [3.1], [2.7], [2.8], [2.9]])\n",
    "y_train = torch.FloatTensor([[1],[1],[1],[0],[0],[0],[0],[1],[0],[1],[1],[1]])"
   ]
  },
  {
   "cell_type": "code",
   "execution_count": 16,
   "metadata": {},
   "outputs": [
    {
     "name": "stdout",
     "output_type": "stream",
     "text": [
      "Epoch 0: Cost = 0.6348510384559631, W = -0.8427649736404419, b = 1.3356882333755493\n",
      "Epoch 100: Cost = 0.4152984619140625, W = -1.5323004722595215, b = 4.6559062004089355\n",
      "Epoch 200: Cost = 0.3971690833568573, W = -1.9445363283157349, b = 5.9137678146362305\n",
      "Epoch 300: Cost = 0.3901188373565674, W = -2.205501079559326, b = 6.7037153244018555\n",
      "Epoch 400: Cost = 0.3866386413574219, W = -2.3900508880615234, b = 7.259995937347412\n",
      "Epoch 500: Cost = 0.38471150398254395, W = -2.5278894901275635, b = 7.67438268661499\n",
      "Epoch 600: Cost = 0.3835696280002594, W = -2.6342477798461914, b = 7.993556022644043\n",
      "Epoch 700: Cost = 0.38286229968070984, W = -2.71809720993042, b = 8.244857788085938\n",
      "Epoch 800: Cost = 0.3824102580547333, W = -2.7852070331573486, b = 8.445795059204102\n",
      "Epoch 900: Cost = 0.3821147680282593, W = -2.839517116546631, b = 8.608287811279297\n",
      "Epoch 1000: Cost = 0.38191816210746765, W = -2.883841037750244, b = 8.740824699401855\n",
      "Epoch 1100: Cost = 0.38178572058677673, W = -2.92024564743042, b = 8.849632263183594\n",
      "Epoch 1200: Cost = 0.38169553875923157, W = -2.9503016471862793, b = 8.939431190490723\n",
      "Epoch 1300: Cost = 0.38163360953330994, W = -2.9752159118652344, b = 9.013845443725586\n",
      "Epoch 1400: Cost = 0.38159075379371643, W = -2.995936632156372, b = 9.075719833374023\n",
      "Epoch 1500: Cost = 0.38156095147132874, W = -3.0132172107696533, b = 9.127310752868652\n",
      "Epoch 1600: Cost = 0.3815401792526245, W = -3.0276575088500977, b = 9.170414924621582\n",
      "Epoch 1700: Cost = 0.3815256655216217, W = -3.0397469997406006, b = 9.206497192382812\n",
      "Epoch 1800: Cost = 0.38151541352272034, W = -3.0498828887939453, b = 9.23674488067627\n",
      "Epoch 1900: Cost = 0.38150835037231445, W = -3.058389663696289, b = 9.262129783630371\n",
      "Epoch 2000: Cost = 0.3815031945705414, W = -3.065537929534912, b = 9.28345775604248\n"
     ]
    }
   ],
   "source": [
    "import math\n",
    "\n",
    "w = torch.randn(1, 1)\n",
    "b = torch.randn(1, 1)\n",
    "\n",
    "lr = 1.0\n",
    "\n",
    "for epoch in range(2001):\n",
    "    w.requires_grad_(True)\n",
    "    b.requires_grad_(True)\n",
    "\n",
    "    h = torch.sigmoid(x_train @ w + b)\n",
    "    #h = 1 / (1 + math.e ** (-(x_train @ w + b)))\n",
    "\n",
    "    cost = torch.mean(-y_train * torch.log(h) - (1-y_train) * torch.log(1-h))  # BCE\n",
    "\n",
    "    cost.backward()\n",
    "\n",
    "    with torch.no_grad():\n",
    "        w = w - lr * w.grad\n",
    "        b = b - lr * b.grad\n",
    "\n",
    "        if epoch % 100 == 0:\n",
    "            print(f'Epoch {epoch}: Cost = {cost.item()}, W = {w.squeeze().tolist()}, b = {b.squeeze().item()}')"
   ]
  },
  {
   "cell_type": "code",
   "execution_count": 17,
   "metadata": {},
   "outputs": [
    {
     "name": "stdout",
     "output_type": "stream",
     "text": [
      "Epoch 0: Cost = 1.7255052328109741, W = -0.3946610689163208, b = -0.0731736421585083\n",
      "Epoch 100: Cost = 0.42037227749824524, W = -1.4489269256591797, b = 4.3996782302856445\n",
      "Epoch 200: Cost = 0.3987672030925751, W = -1.8971211910247803, b = 5.769762992858887\n",
      "Epoch 300: Cost = 0.3908407688140869, W = -2.1734426021575928, b = 6.606895923614502\n",
      "Epoch 400: Cost = 0.3870192766189575, W = -2.366689920425415, b = 7.189676761627197\n",
      "Epoch 500: Cost = 0.384930282831192, W = -2.510140895843506, b = 7.6210737228393555\n",
      "Epoch 600: Cost = 0.38370242714881897, W = -2.620401620864868, b = 7.952032566070557\n",
      "Epoch 700: Cost = 0.3829458951950073, W = -2.7070984840393066, b = 8.211909294128418\n",
      "Epoch 800: Cost = 0.382464200258255, W = -2.776355504989624, b = 8.419301986694336\n",
      "Epoch 900: Cost = 0.38215041160583496, W = -2.832324981689453, b = 8.586774826049805\n",
      "Epoch 1000: Cost = 0.3819420337677002, W = -2.8779520988464355, b = 8.723219871520996\n",
      "Epoch 1100: Cost = 0.38180193305015564, W = -2.9153969287872314, b = 8.835142135620117\n",
      "Epoch 1200: Cost = 0.381706565618515, W = -2.946291208267212, b = 8.927451133728027\n",
      "Epoch 1300: Cost = 0.3816412687301636, W = -2.9718868732452393, b = 9.00390338897705\n",
      "Epoch 1400: Cost = 0.3815959692001343, W = -2.9931633472442627, b = 9.067439079284668\n",
      "Epoch 1500: Cost = 0.3815647065639496, W = -3.010899305343628, b = 9.120390892028809\n",
      "Epoch 1600: Cost = 0.38154280185699463, W = -3.025719404220581, b = 9.164629936218262\n",
      "Epoch 1700: Cost = 0.38152745366096497, W = -3.0381240844726562, b = 9.201653480529785\n",
      "Epoch 1800: Cost = 0.38151678442955017, W = -3.0485212802886963, b = 9.232682228088379\n",
      "Epoch 1900: Cost = 0.3815091848373413, W = -3.0572476387023926, b = 9.258721351623535\n",
      "Epoch 2000: Cost = 0.3815039396286011, W = -3.064578056335449, b = 9.280593872070312\n"
     ]
    }
   ],
   "source": [
    "bce = torch.nn.BCELoss()\n",
    "\n",
    "w = torch.randn(1, 1)\n",
    "b = torch.randn(1, 1)\n",
    "\n",
    "lr = 1.0\n",
    "\n",
    "for epoch in range(2001):\n",
    "    w.requires_grad_(True)\n",
    "    b.requires_grad_(True)\n",
    "\n",
    "    h = torch.sigmoid(x_train @ w + b)\n",
    "\n",
    "    cost = bce(h, y_train)\n",
    "    cost.backward()\n",
    "\n",
    "    with torch.no_grad():\n",
    "        w = w - lr * w.grad\n",
    "        b = b - lr * b.grad\n",
    "\n",
    "        if epoch % 100 == 0:\n",
    "            print(f'Epoch {epoch}: Cost = {cost.item()}, W = {w.squeeze().tolist()}, b = {b.squeeze().item()}')"
   ]
  },
  {
   "cell_type": "code",
   "execution_count": 18,
   "metadata": {},
   "outputs": [
    {
     "name": "stdout",
     "output_type": "stream",
     "text": [
      "tensor([[0.0109],\n",
      "        [0.9973]])\n"
     ]
    }
   ],
   "source": [
    "x_test = torch.FloatTensor([[4.5],[1.1]])\n",
    "\n",
    "#test_result = torch.sigmoid(torch.mm(x_test, w) + b)\n",
    "test_result = torch.sigmoid(x_test @ w + b)\n",
    "\n",
    "print(test_result)"
   ]
  },
  {
   "cell_type": "code",
   "execution_count": 22,
   "metadata": {},
   "outputs": [
    {
     "data": {
      "image/png": "[encoded data removed]",
      "text/plain": [
       "<Figure size 640x480 with 1 Axes>"
      ]
     },
     "metadata": {},
     "output_type": "display_data"
    }
   ],
   "source": [
    "import matplotlib.pyplot as plt\n",
    "\n",
    "X = torch.linspace(0, 5, 100).unsqueeze(1)\n",
    "Y = torch.sigmoid(X@w + b)\n",
    "\n",
    "plt.scatter(x_train, y_train)\n",
    "plt.plot(X, Y, c='red')\n",
    "plt.show()"
   ]
  },
  {
   "cell_type": "code",
   "execution_count": 24,
   "metadata": {},
   "outputs": [
    {
     "name": "stdout",
     "output_type": "stream",
     "text": [
      "Epoch 0: Cost = 2.521151304244995, W = 1.0635719299316406, b = -3.042440891265869\n",
      "Epoch 100: Cost = 0.3821932375431061, W = -2.832634210586548, b = 8.573307991027832\n",
      "Epoch 200: Cost = 0.3815056085586548, W = -3.062659978866577, b = 9.275191307067871\n",
      "Epoch 300: Cost = 0.38149091601371765, W = -3.100795269012451, b = 9.388652801513672\n",
      "Epoch 400: Cost = 0.3814907371997833, W = -3.1037611961364746, b = 9.397481918334961\n",
      "Epoch 500: Cost = 0.3814907371997833, W = -3.103851318359375, b = 9.397748947143555\n",
      "Epoch 600: Cost = 0.3814908266067505, W = -3.103851556777954, b = 9.397748947143555\n",
      "Epoch 700: Cost = 0.3814907968044281, W = -3.103851556777954, b = 9.397748947143555\n",
      "Epoch 800: Cost = 0.3814907968044281, W = -3.103851318359375, b = 9.397748947143555\n",
      "Epoch 900: Cost = 0.3814908266067505, W = -3.1038520336151123, b = 9.397750854492188\n",
      "Epoch 1000: Cost = 0.3814907968044281, W = -3.1038525104522705, b = 9.397751808166504\n",
      "Epoch 1100: Cost = 0.3814907371997833, W = -3.1038522720336914, b = 9.397751808166504\n",
      "Epoch 1200: Cost = 0.3814907968044281, W = -3.1038525104522705, b = 9.397751808166504\n",
      "Epoch 1300: Cost = 0.3814907968044281, W = -3.1038525104522705, b = 9.397751808166504\n",
      "Epoch 1400: Cost = 0.3814907968044281, W = -3.1038525104522705, b = 9.397751808166504\n",
      "Epoch 1500: Cost = 0.3814907968044281, W = -3.1038522720336914, b = 9.397751808166504\n",
      "Epoch 1600: Cost = 0.3814907371997833, W = -3.1038522720336914, b = 9.397751808166504\n",
      "Epoch 1700: Cost = 0.38149070739746094, W = -3.1038529872894287, b = 9.39775276184082\n",
      "Epoch 1800: Cost = 0.38149070739746094, W = -3.1038529872894287, b = 9.39775276184082\n",
      "Epoch 1900: Cost = 0.38149070739746094, W = -3.1038529872894287, b = 9.39775276184082\n",
      "Epoch 2000: Cost = 0.38149070739746094, W = -3.1038529872894287, b = 9.39775276184082\n"
     ]
    }
   ],
   "source": [
    "bce = torch.nn.BCELoss()\n",
    "\n",
    "w = torch.randn(1, 1, requires_grad=True)\n",
    "b = torch.randn(1, 1, requires_grad=True)\n",
    "\n",
    "optimizer = torch.optim.Adam([w, b], lr=1.0)\n",
    "\n",
    "for epoch in range(2001):\n",
    "\n",
    "    h = torch.sigmoid(x_train @ w + b)\n",
    "    cost = bce(h, y_train)\n",
    "    \n",
    "    optimizer.zero_grad()\n",
    "    cost.backward()\n",
    "    optimizer.step()\n",
    "\n",
    "    with torch.no_grad():\n",
    "        if epoch % 100 == 0:\n",
    "            print(f'Epoch {epoch}: Cost = {cost.item()}, W = {w.squeeze().tolist()}, b = {b.squeeze().item()}')"
   ]
  },
  {
   "cell_type": "markdown",
   "metadata": {},
   "source": [
    "## sklearn에서LogisticRegression사용"
   ]
  },
  {
   "cell_type": "code",
   "execution_count": 25,
   "metadata": {},
   "outputs": [
    {
     "name": "stdout",
     "output_type": "stream",
     "text": [
      "[[-3.10428163]] [9.39919938]\n",
      "[0 1]\n"
     ]
    }
   ],
   "source": [
    "from sklearn.linear_model import LogisticRegression\n",
    "\n",
    "x_train = [[1],[2],[3],[4],[5],[2.5],[3.5],[0],[3.1],[2.7],[2.8],[2.9]]\n",
    "y_train = [1,1,1,0,0,0,0,1,0,1,1,1] \n",
    "\n",
    "model = LogisticRegression(penalty=None)\n",
    "model.fit(x_train,y_train)\n",
    "\n",
    "print(model.coef_, model.intercept_)\n",
    "\n",
    "x_test = [[4.5], [1.1]]\n",
    "test_result = model.predict(x_test)\n",
    "print(test_result)\n",
    "\n"
   ]
  },
  {
   "cell_type": "markdown",
   "metadata": {},
   "source": [
    "# L06.1 Softmax Regression Practice"
   ]
  },
  {
   "cell_type": "code",
   "execution_count": 25,
   "metadata": {},
   "outputs": [],
   "source": [
    "import torch\n",
    "x_train = torch.FloatTensor([ [1,2,1,1], [2,1,3,2], [3,1,3,4], [4,1,5,5], [1,7,5,5], [1,2,5,6], [1,6,6,6], [1,7,7,7] ])\n",
    "y_train = torch.FloatTensor([ [0,0,1], [0,0,1], [0,0,1], [0,1,0], [0,1,0], [0,1,0], [1,0,0], [1,0,0] ])"
   ]
  },
  {
   "cell_type": "code",
   "execution_count": 26,
   "metadata": {},
   "outputs": [],
   "source": [
    "W = torch.randn(4, 3, requires_grad=True)\n",
    "b = torch.randn(1, 3, requires_grad=True)\n",
    "\n",
    "optimizer = torch.optim.Adam([W, b], lr=0.1)\n"
   ]
  },
  {
   "cell_type": "code",
   "execution_count": 27,
   "metadata": {},
   "outputs": [
    {
     "name": "stdout",
     "output_type": "stream",
     "text": [
      "epoch: 0, cost: 9.688851\n",
      "epoch: 100, cost: 0.471716\n",
      "epoch: 200, cost: 0.314578\n",
      "epoch: 300, cost: 0.223997\n",
      "epoch: 400, cost: 0.168306\n",
      "epoch: 500, cost: 0.131756\n",
      "epoch: 600, cost: 0.106256\n",
      "epoch: 700, cost: 0.087608\n",
      "epoch: 800, cost: 0.073480\n",
      "epoch: 900, cost: 0.062486\n",
      "epoch: 1000, cost: 0.053744\n",
      "epoch: 1100, cost: 0.046672\n",
      "epoch: 1200, cost: 0.040866\n",
      "epoch: 1300, cost: 0.036039\n",
      "epoch: 1400, cost: 0.031984\n",
      "epoch: 1500, cost: 0.028543\n",
      "epoch: 1600, cost: 0.025600\n",
      "epoch: 1700, cost: 0.023062\n",
      "epoch: 1800, cost: 0.020859\n",
      "epoch: 1900, cost: 0.018936\n",
      "epoch: 2000, cost: 0.017246\n",
      "epoch: 2100, cost: 0.015754\n",
      "epoch: 2200, cost: 0.014430\n",
      "epoch: 2300, cost: 0.013251\n",
      "epoch: 2400, cost: 0.012196\n",
      "epoch: 2500, cost: 0.011249\n",
      "epoch: 2600, cost: 0.010395\n",
      "epoch: 2700, cost: 0.009624\n",
      "epoch: 2800, cost: 0.008924\n",
      "epoch: 2900, cost: 0.008288\n",
      "epoch: 3000, cost: 0.007709\n"
     ]
    }
   ],
   "source": [
    "for epoch in range(3001):\n",
    "    h = torch.softmax(torch.mm(x_train, W)+b, dim=1)\n",
    "    cost = -torch.mean(torch.sum(y_train * torch.log(h), dim=1))\n",
    "\n",
    "    optimizer.zero_grad()\n",
    "    cost.backward()\n",
    "    optimizer.step()\n",
    "\n",
    "    if epoch % 100 == 0:\n",
    "        print(\"epoch: {}, cost: {:.6f}\".format(epoch, cost.item()))"
   ]
  },
  {
   "cell_type": "code",
   "execution_count": 28,
   "metadata": {},
   "outputs": [
    {
     "name": "stdout",
     "output_type": "stream",
     "text": [
      "tensor([[1.0000e+00, 4.3832e-15, 1.5618e-31],\n",
      "        [1.9495e-02, 7.6075e-01, 2.1976e-01],\n",
      "        [2.3533e-27, 4.2466e-10, 1.0000e+00]])\n",
      "tensor([0, 1, 2])\n"
     ]
    }
   ],
   "source": [
    "W.requires_grad_(False)\n",
    "b.requires_grad_(False)\n",
    "\n",
    "x_test = torch.FloatTensor([[1,11,10,9], [1,3,4,3], [1,1,0,1]])\n",
    "test_all = torch.softmax(torch.mm(x_test, W)+b, dim=1)\n",
    "print(test_all)\n",
    "print(torch.argmax(test_all, dim=1))"
   ]
  },
  {
   "cell_type": "code",
   "execution_count": null,
   "metadata": {},
   "outputs": [],
   "source": [
    "import torch.nn.functional as F\n",
    "\n",
    "y_train = torch.LongTensor([2,2,2,1,1,1,0,0])"
   ]
  }
 ],
 "metadata": {
  "kernelspec": {
   "display_name": ".venv",
   "language": "python",
   "name": "python3"
  },
  "language_info": {
   "codemirror_mode": {
    "name": "ipython",
    "version": 3
   },
   "file_extension": ".py",
   "mimetype": "text/x-python",
   "name": "python",
   "nbconvert_exporter": "python",
   "pygments_lexer": "ipython3",
   "version": "3.9.13"
  }
 },
 "nbformat": 4,
 "nbformat_minor": 2
}

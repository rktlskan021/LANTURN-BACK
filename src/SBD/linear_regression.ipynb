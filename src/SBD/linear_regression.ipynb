{
 "cells": [
  {
   "cell_type": "markdown",
   "metadata": {},
   "source": [
    "# L03.1 Linear Regression Practice"
   ]
  },
  {
   "cell_type": "code",
   "execution_count": 2,
   "metadata": {},
   "outputs": [
    {
     "name": "stdout",
     "output_type": "stream",
     "text": [
      "torch.LongTensor\n",
      "tensor([[1, 2, 3],\n",
      "        [4, 5, 6],\n",
      "        [7, 8, 9]])\n"
     ]
    }
   ],
   "source": [
    "import torch\n",
    "\n",
    "x = torch.tensor([[1, 2, 3],[4, 5, 6], [7, 8, 9]])\n",
    "print(x.type())\n",
    "print(x)"
   ]
  },
  {
   "cell_type": "code",
   "execution_count": 3,
   "metadata": {},
   "outputs": [
    {
     "name": "stdout",
     "output_type": "stream",
     "text": [
      "torch.Size([3, 3])\n",
      "torch.Size([3, 3])\n",
      "2\n"
     ]
    }
   ],
   "source": [
    "print(x.size())\n",
    "print(x.shape)\n",
    "print(x.ndimension())"
   ]
  },
  {
   "cell_type": "code",
   "execution_count": 4,
   "metadata": {},
   "outputs": [
    {
     "name": "stdout",
     "output_type": "stream",
     "text": [
      "torch.Size([3, 2, 2])\n",
      "3\n"
     ]
    }
   ],
   "source": [
    "y = torch.FloatTensor([[[1, 2], [3, 4]], [[5, 6], [7, 8]], [[1, 2], [3, 4]]])\n",
    "print(y.shape)\n",
    "print(y.ndimension()) # == len(y.shape)"
   ]
  },
  {
   "cell_type": "code",
   "execution_count": 5,
   "metadata": {},
   "outputs": [
    {
     "name": "stdout",
     "output_type": "stream",
     "text": [
      "tensor([[[1., 2.],\n",
      "         [3., 4.]],\n",
      "\n",
      "        [[5., 6.],\n",
      "         [7., 8.]],\n",
      "\n",
      "        [[1., 2.],\n",
      "         [3., 4.]]])\n",
      "origianl shape:  torch.Size([3, 2, 2])\n",
      "tensor([[[[1., 2.],\n",
      "          [3., 4.]],\n",
      "\n",
      "         [[5., 6.],\n",
      "          [7., 8.]],\n",
      "\n",
      "         [[1., 2.],\n",
      "          [3., 4.]]]])\n",
      "unsqueeze(0):  torch.Size([1, 3, 2, 2])\n"
     ]
    }
   ],
   "source": [
    "print(y)\n",
    "print(\"origianl shape: \", y.shape)\n",
    "\n",
    "y0 =y.unsqueeze(0)\n",
    "print(y0)\n",
    "print(\"unsqueeze(0): \", y0.shape)"
   ]
  },
  {
   "cell_type": "code",
   "execution_count": 6,
   "metadata": {},
   "outputs": [
    {
     "name": "stdout",
     "output_type": "stream",
     "text": [
      "tensor([[[[1., 2.],\n",
      "          [3., 4.]],\n",
      "\n",
      "         [[5., 6.],\n",
      "          [7., 8.]],\n",
      "\n",
      "         [[1., 2.],\n",
      "          [3., 4.]]]])\n",
      "tensor([[[[1., 2.],\n",
      "          [3., 4.]]],\n",
      "\n",
      "\n",
      "        [[[5., 6.],\n",
      "          [7., 8.]]],\n",
      "\n",
      "\n",
      "        [[[1., 2.],\n",
      "          [3., 4.]]]])\n",
      "tensor([[[[1., 2.]],\n",
      "\n",
      "         [[3., 4.]]],\n",
      "\n",
      "\n",
      "        [[[5., 6.]],\n",
      "\n",
      "         [[7., 8.]]],\n",
      "\n",
      "\n",
      "        [[[1., 2.]],\n",
      "\n",
      "         [[3., 4.]]]])\n",
      "tensor([[[[1.],\n",
      "          [2.]],\n",
      "\n",
      "         [[3.],\n",
      "          [4.]]],\n",
      "\n",
      "\n",
      "        [[[5.],\n",
      "          [6.]],\n",
      "\n",
      "         [[7.],\n",
      "          [8.]]],\n",
      "\n",
      "\n",
      "        [[[1.],\n",
      "          [2.]],\n",
      "\n",
      "         [[3.],\n",
      "          [4.]]]])\n"
     ]
    }
   ],
   "source": [
    "x = torch.FloatTensor([[[1, 2], [3, 4]], [[5, 6], [7, 8]], [[1, 2], [3, 4]]])\n",
    "\n",
    "x0 = x.unsqueeze(0) # [3, 2, 2] --> [1, 3, 2, 2]\n",
    "x1 = x.unsqueeze(1) # [3, 2, 2] --> [3, 1, 2, 2]\n",
    "x2 = x.unsqueeze(2) # [3, 2, 2] --> [3, 2, 1, 2]\n",
    "x3 = x.unsqueeze(3) # [3, 2, 2] --> [3, 2, 2, 1]\n",
    "\n",
    "print(x0)\n",
    "print(x1)\n",
    "print(x2)\n",
    "print(x3)"
   ]
  },
  {
   "cell_type": "code",
   "execution_count": 7,
   "metadata": {},
   "outputs": [
    {
     "name": "stdout",
     "output_type": "stream",
     "text": [
      "torch.Size([3, 2, 2])\n"
     ]
    }
   ],
   "source": [
    "xt = x.unsqueeze(0).unsqueeze(1).unsqueeze(0).unsqueeze(5) # 1, 1, 1, 3, 2, 1, 2\n",
    "print(xt.squeeze().shape)"
   ]
  },
  {
   "cell_type": "code",
   "execution_count": 10,
   "metadata": {},
   "outputs": [
    {
     "data": {
      "text/plain": [
       "tensor([[1., 2., 3., 4.],\n",
       "        [5., 6., 7., 8.],\n",
       "        [1., 2., 3., 4.]])"
      ]
     },
     "execution_count": 10,
     "metadata": {},
     "output_type": "execute_result"
    }
   ],
   "source": [
    "x.view(3, -1)"
   ]
  },
  {
   "cell_type": "code",
   "execution_count": 14,
   "metadata": {},
   "outputs": [
    {
     "name": "stdout",
     "output_type": "stream",
     "text": [
      "tensor([[1.3625],\n",
      "        [3.6637],\n",
      "        [5.3913]])\n"
     ]
    }
   ],
   "source": [
    "x = torch.FloatTensor([[1, 2], [3, 4], [5, 6]]) # 3 x 2\n",
    "w = torch.rand(1, 2, dtype=torch.float)  # 2 x 1\n",
    "b = torch.rand(3, 1, dtype=torch.float)\n",
    "\n",
    "print(x @ w.T + b)"
   ]
  },
  {
   "cell_type": "code",
   "execution_count": 16,
   "metadata": {},
   "outputs": [
    {
     "name": "stdout",
     "output_type": "stream",
     "text": [
      "tensor(72.)\n"
     ]
    }
   ],
   "source": [
    "w = torch.tensor(4.0, requires_grad=True)\n",
    "a = w*3\n",
    "l = a**2\n",
    "l.backward()\n",
    "print(w.grad)"
   ]
  },
  {
   "cell_type": "markdown",
   "metadata": {},
   "source": [
    "## Linear Regression 실습"
   ]
  },
  {
   "cell_type": "code",
   "execution_count": 24,
   "metadata": {},
   "outputs": [
    {
     "name": "stdout",
     "output_type": "stream",
     "text": [
      "tensor([[0.0461],\n",
      "        [0.3764]]) tensor([[-0.7001]])\n",
      "Epoch 0: Cost = 103.51225280761719, W = [0.4062841236591339, 1.061174750328064], b = -0.5697934627532959\n",
      "Epoch 100: Cost = 1.123466968536377, W = [0.7995666265487671, 3.149756908416748], b = -1.7464873790740967\n",
      "Epoch 200: Cost = 0.5601152181625366, W = [1.0648976564407349, 3.1616039276123047], b = -2.436006784439087\n",
      "Epoch 300: Cost = 0.28763169050216675, W = [1.3211987018585205, 3.1219964027404785], b = -2.884639024734497\n",
      "Epoch 400: Cost = 0.14781615138053894, W = [1.5124239921569824, 3.088153123855591], b = -3.201080322265625\n",
      "Epoch 500: Cost = 0.07596535980701447, W = [1.6503573656082153, 3.0632741451263428], b = -3.427344799041748\n",
      "Epoch 600: Cost = 0.03904002904891968, W = [1.749335527420044, 3.0453691482543945], b = -3.5894830226898193\n",
      "Epoch 700: Cost = 0.02006339095532894, W = [1.82030189037323, 3.032525062561035], b = -3.7057085037231445\n",
      "Epoch 800: Cost = 0.010310955345630646, W = [1.8711775541305542, 3.0233170986175537], b = -3.7890286445617676\n",
      "Epoch 900: Cost = 0.005299012176692486, W = [1.9076496362686157, 3.0167155265808105], b = -3.8487586975097656\n",
      "Epoch 1000: Cost = 0.0027232225984334946, W = [1.9337962865829468, 3.0119826793670654], b = -3.891577959060669\n",
      "Epoch 1100: Cost = 0.0013995353365316987, W = [1.952539324760437, 3.0085904598236084], b = -3.922274112701416\n",
      "Epoch 1200: Cost = 0.0007192472112365067, W = [1.9659762382507324, 3.0061583518981934], b = -3.944279432296753\n",
      "Epoch 1300: Cost = 0.00036964676110073924, W = [1.9756085872650146, 3.0044147968292236], b = -3.960054397583008\n",
      "Epoch 1400: Cost = 0.00018997052393388003, W = [1.9825140237808228, 3.0031650066375732], b = -3.9713635444641113\n",
      "Epoch 1500: Cost = 9.762907575350255e-05, W = [1.9874647855758667, 3.0022690296173096], b = -3.979471445083618\n",
      "Epoch 1600: Cost = 5.017247895011678e-05, W = [1.9910134077072144, 3.00162672996521], b = -3.985283374786377\n",
      "Epoch 1700: Cost = 2.5785697289393283e-05, W = [1.9935575723648071, 3.001166343688965], b = -3.989449977874756\n",
      "Epoch 1800: Cost = 1.3252056305645965e-05, W = [1.9953815937042236, 3.00083589553833], b = -3.9924368858337402\n",
      "Epoch 1900: Cost = 6.810703780502081e-06, W = [1.9966892004013062, 3.0005993843078613], b = -3.9945781230926514\n",
      "Epoch 2000: Cost = 3.4996296562894713e-06, W = [1.9976261854171753, 3.000430107116699], b = -3.9961133003234863\n",
      "Epoch 2100: Cost = 1.7987333649216453e-06, W = [1.9982984066009521, 3.000308036804199], b = -3.99721360206604\n",
      "Epoch 2200: Cost = 9.250234143109992e-07, W = [1.9987797737121582, 3.000221014022827], b = -3.998002052307129\n",
      "Epoch 2300: Cost = 4.755574991577305e-07, W = [1.9991252422332764, 3.0001583099365234], b = -3.9985673427581787\n",
      "Epoch 2400: Cost = 2.441996684865444e-07, W = [1.9993728399276733, 3.0001137256622314], b = -3.9989728927612305\n",
      "Epoch 2500: Cost = 1.2563715756641614e-07, W = [1.9995497465133667, 3.000081777572632], b = -3.9992635250091553\n",
      "Epoch 2600: Cost = 6.474539304690552e-08, W = [1.9996775388717651, 3.0000579357147217], b = -3.999471426010132\n",
      "Epoch 2700: Cost = 3.341030918591059e-08, W = [1.9997689723968506, 3.0000414848327637], b = -3.9996204376220703\n",
      "Epoch 2800: Cost = 1.7209563552000873e-08, W = [1.9998338222503662, 3.000030040740967], b = -3.999727487564087\n",
      "Epoch 2900: Cost = 8.893508152141294e-09, W = [1.9998798370361328, 3.0000219345092773], b = -3.9998040199279785\n",
      "Epoch 3000: Cost = 4.786514296029054e-09, W = [1.999912142753601, 3.0000159740448], b = -3.999856472015381\n"
     ]
    }
   ],
   "source": [
    "import torch\n",
    "\n",
    "x_train = torch.FloatTensor([[1, 2], [3, 2], [3, 7], [1, 1], [1, 0]])\n",
    "y_train = torch.FloatTensor([[4], [8], [23], [1], [-2]])\n",
    "\n",
    "W = torch.randn(2, 1)\n",
    "b = torch.randn(1, 1)\n",
    "print(W, b)\n",
    "\n",
    "lr = 0.01\n",
    "\n",
    "for epoch in range(3001):\n",
    "    W.requires_grad_(True)\n",
    "    b.requires_grad_(True)\n",
    "\n",
    "    h = x_train @ W + b\n",
    "    cost = ((y_train - h)**2).mean()\n",
    "\n",
    "    cost.backward()\n",
    "\n",
    "    with torch.no_grad():\n",
    "        W = W - lr * W.grad\n",
    "        b = b - lr * b.grad\n",
    "\n",
    "        if epoch % 100 == 0:\n",
    "            print(f'Epoch {epoch}: Cost = {cost.item()}, W = {W.squeeze().tolist()}, b = {b.squeeze().item()}')\n"
   ]
  },
  {
   "cell_type": "code",
   "execution_count": 26,
   "metadata": {},
   "outputs": [
    {
     "name": "stdout",
     "output_type": "stream",
     "text": [
      "tensor([[35.9999],\n",
      "        [21.0001],\n",
      "        [32.0000]])\n"
     ]
    }
   ],
   "source": [
    "x_test = torch.FloatTensor([[5, 10], [2, 7], [3, 10]])\n",
    "\n",
    "y_test = x_test @ W + b\n",
    "print(y_test)"
   ]
  },
  {
   "cell_type": "markdown",
   "metadata": {},
   "source": [
    "## Linear Regression with Scikit-learn"
   ]
  },
  {
   "cell_type": "code",
   "execution_count": 27,
   "metadata": {},
   "outputs": [
    {
     "name": "stdout",
     "output_type": "stream",
     "text": [
      "[[2. 3.]] [-4.]\n"
     ]
    }
   ],
   "source": [
    "from sklearn.linear_model import LinearRegression\n",
    "\n",
    "x = [[1, 2], [3, 2], [3 ,7], [1, 1], [1, 0]]\n",
    "y = [[4], [8], [23], [1], [-2]]\n",
    "\n",
    "lr = LinearRegression() # 모델 생성\n",
    "lr.fit(x, y) # 학습 (피팅)\n",
    "\n",
    "print(lr.coef_, lr.intercept_)"
   ]
  },
  {
   "cell_type": "code",
   "execution_count": 29,
   "metadata": {},
   "outputs": [
    {
     "name": "stdout",
     "output_type": "stream",
     "text": [
      "[[36.]\n",
      " [21.]\n",
      " [25.]]\n"
     ]
    }
   ],
   "source": [
    "x_test = [[5, 10], [2, 7], [10, 3]]\n",
    "y_test = lr.predict(x_test)\n",
    "print(y_test)"
   ]
  },
  {
   "cell_type": "markdown",
   "metadata": {},
   "source": [
    "# L04.1 Logistic Regression Practice"
   ]
  },
  {
   "cell_type": "code",
   "execution_count": 33,
   "metadata": {},
   "outputs": [],
   "source": [
    "import torch\n",
    "\n",
    "x_train = torch.FloatTensor([[1], [2], [3], [4], [5], [2.5], [3.5], [0], [3.1], [2.7], [2.8], [2.9]])\n",
    "y_train = torch.FloatTensor([[1],[1],[1],[0],[0],[0],[0],[1],[0],[1],[1],[1]])"
   ]
  },
  {
   "cell_type": "code",
   "execution_count": 42,
   "metadata": {},
   "outputs": [
    {
     "name": "stdout",
     "output_type": "stream",
     "text": [
      "Epoch 0: Cost = 0.8727443814277649, W = -0.413744181394577, b = -0.28808581829071045\n",
      "Epoch 100: Cost = 0.42096149921417236, W = -1.4398301839828491, b = 4.371669292449951\n",
      "Epoch 200: Cost = 0.39894402027130127, W = -1.8920661211013794, b = 5.754400730133057\n",
      "Epoch 300: Cost = 0.39091920852661133, W = -2.170053005218506, b = 6.59665584564209\n",
      "Epoch 400: Cost = 0.3870604336261749, W = -2.3642303943634033, b = 7.182271480560303\n",
      "Epoch 500: Cost = 0.3849537670612335, W = -2.508277177810669, b = 7.615475177764893\n",
      "Epoch 600: Cost = 0.3837165832519531, W = -2.618950128555298, b = 7.947679042816162\n",
      "Epoch 700: Cost = 0.3829547166824341, W = -2.7059473991394043, b = 8.20846176147461\n",
      "Epoch 800: Cost = 0.3824699819087982, W = -2.775430917739868, b = 8.416533470153809\n",
      "Epoch 900: Cost = 0.3821541965007782, W = -2.8315742015838623, b = 8.584529876708984\n",
      "Epoch 1000: Cost = 0.38194456696510315, W = -2.8773388862609863, b = 8.721386909484863\n",
      "Epoch 1100: Cost = 0.3818035423755646, W = -2.914893865585327, b = 8.833639144897461\n",
      "Epoch 1200: Cost = 0.3817077577114105, W = -2.945875644683838, b = 8.92620849609375\n",
      "Epoch 1300: Cost = 0.3816419839859009, W = -2.9715423583984375, b = 9.002874374389648\n",
      "Epoch 1400: Cost = 0.3815966546535492, W = -2.9928781986236572, b = 9.066587448120117\n",
      "Epoch 1500: Cost = 0.3815650939941406, W = -3.010664224624634, b = 9.119688987731934\n",
      "Epoch 1600: Cost = 0.3815431296825409, W = -3.0255229473114014, b = 9.164043426513672\n",
      "Epoch 1700: Cost = 0.38152778148651123, W = -3.0379581451416016, b = 9.20115852355957\n",
      "Epoch 1800: Cost = 0.3815169334411621, W = -3.04838228225708, b = 9.232267379760742\n",
      "Epoch 1900: Cost = 0.38150930404663086, W = -3.0571303367614746, b = 9.258371353149414\n",
      "Epoch 2000: Cost = 0.3815039098262787, W = -3.064479112625122, b = 9.280299186706543\n"
     ]
    }
   ],
   "source": [
    "import math\n",
    "\n",
    "w = torch.randn(1, 1)\n",
    "b = torch.randn(1, 1)\n",
    "\n",
    "lr = 1.0\n",
    "\n",
    "for epoch in range(2001):\n",
    "    w.requires_grad_(True)\n",
    "    b.requires_grad_(True)\n",
    "\n",
    "    h = torch.sigmoid(x_train @ w + b)\n",
    "    #h = 1 / (1 + math.e ** (-(x_train @ w + b)))\n",
    "\n",
    "    cost = torch.mean(-y_train * torch.log(h) - (1-y_train) * torch.log(1-h))  # BCE\n",
    "\n",
    "    cost.backward()\n",
    "\n",
    "    with torch.no_grad():\n",
    "        w = w - lr * w.grad\n",
    "        b = b - lr * b.grad\n",
    "\n",
    "        if epoch % 100 == 0:\n",
    "            print(f'Epoch {epoch}: Cost = {cost.item()}, W = {w.squeeze().tolist()}, b = {b.squeeze().item()}')"
   ]
  },
  {
   "cell_type": "code",
   "execution_count": 43,
   "metadata": {},
   "outputs": [
    {
     "name": "stdout",
     "output_type": "stream",
     "text": [
      "Epoch 0: Cost = 1.4393614530563354, W = 0.16764813661575317, b = 0.08368638157844543\n",
      "Epoch 100: Cost = 0.42043960094451904, W = -1.44786536693573, b = 4.396467208862305\n",
      "Epoch 200: Cost = 0.3987874984741211, W = -1.8965394496917725, b = 5.767995357513428\n",
      "Epoch 300: Cost = 0.3908498287200928, W = -2.173051357269287, b = 6.605713844299316\n",
      "Epoch 400: Cost = 0.38702407479286194, W = -2.3664066791534424, b = 7.188823699951172\n",
      "Epoch 500: Cost = 0.3849329650402069, W = -2.5099260807037354, b = 7.620428562164307\n",
      "Epoch 600: Cost = 0.3837040364742279, W = -2.620234727859497, b = 7.951530933380127\n",
      "Epoch 700: Cost = 0.3829468786716461, W = -2.7069664001464844, b = 8.21151351928711\n",
      "Epoch 800: Cost = 0.3824649155139923, W = -2.7762486934661865, b = 8.418981552124023\n",
      "Epoch 900: Cost = 0.382150799036026, W = -2.8322389125823975, b = 8.586517333984375\n",
      "Epoch 1000: Cost = 0.38194236159324646, W = -2.8778820037841797, b = 8.723010063171387\n",
      "Epoch 1100: Cost = 0.3818020820617676, W = -2.915339469909668, b = 8.83497142791748\n",
      "Epoch 1200: Cost = 0.38170674443244934, W = -2.9462451934814453, b = 8.927312850952148\n",
      "Epoch 1300: Cost = 0.38164129853248596, W = -2.971849203109741, b = 9.003790855407715\n",
      "Epoch 1400: Cost = 0.38159608840942383, W = -2.9931325912475586, b = 9.067347526550293\n",
      "Epoch 1500: Cost = 0.3815647065639496, W = -3.010873317718506, b = 9.12031364440918\n",
      "Epoch 1600: Cost = 0.381542831659317, W = -3.0256972312927246, b = 9.16456413269043\n",
      "Epoch 1700: Cost = 0.38152754306793213, W = -3.03810453414917, b = 9.201595306396484\n",
      "Epoch 1800: Cost = 0.38151678442955017, W = -3.048504590988159, b = 9.232632637023926\n",
      "Epoch 1900: Cost = 0.3815092146396637, W = -3.0572328567504883, b = 9.25867748260498\n",
      "Epoch 2000: Cost = 0.3815039396286011, W = -3.0645666122436523, b = 9.280559539794922\n"
     ]
    }
   ],
   "source": [
    "bce = torch.nn.BCELoss()\n",
    "\n",
    "w = torch.randn(1, 1)\n",
    "b = torch.randn(1, 1)\n",
    "\n",
    "lr = 1.0\n",
    "\n",
    "for epoch in range(2001):\n",
    "    w.requires_grad_(True)\n",
    "    b.requires_grad_(True)\n",
    "\n",
    "    h = torch.sigmoid(x_train @ w + b)\n",
    "\n",
    "    cost = bce(h, y_train)\n",
    "    cost.backward()\n",
    "\n",
    "    with torch.no_grad():\n",
    "        w = w - lr * w.grad\n",
    "        b = b - lr * b.grad\n",
    "\n",
    "        if epoch % 100 == 0:\n",
    "            print(f'Epoch {epoch}: Cost = {cost.item()}, W = {w.squeeze().tolist()}, b = {b.squeeze().item()}')"
   ]
  },
  {
   "cell_type": "code",
   "execution_count": null,
   "metadata": {},
   "outputs": [],
   "source": [
    "x_test = torch.FloatTensor([[4.5],[1.1]])"
   ]
  },
  {
   "cell_type": "code",
   "execution_count": 34,
   "metadata": {},
   "outputs": [
    {
     "data": {
      "image/png": "[encoded data removed]",
      "text/plain": [
       "<Figure size 640x480 with 1 Axes>"
      ]
     },
     "metadata": {},
     "output_type": "display_data"
    }
   ],
   "source": [
    "import matplotlib.pyplot as plt\n",
    "\n",
    "plt.scatter(x_train, y_train)\n",
    "plt.show()"
   ]
  },
  {
   "cell_type": "code",
   "execution_count": null,
   "metadata": {},
   "outputs": [],
   "source": []
  }
 ],
 "metadata": {
  "kernelspec": {
   "display_name": ".venv",
   "language": "python",
   "name": "python3"
  },
  "language_info": {
   "codemirror_mode": {
    "name": "ipython",
    "version": 3
   },
   "file_extension": ".py",
   "mimetype": "text/x-python",
   "name": "python",
   "nbconvert_exporter": "python",
   "pygments_lexer": "ipython3",
   "version": "3.11.9"
  }
 },
 "nbformat": 4,
 "nbformat_minor": 2
}

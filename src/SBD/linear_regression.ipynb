{
 "cells": [
  {
   "cell_type": "markdown",
   "metadata": {},
   "source": [
    "# L03.1 Linear Regression Practice"
   ]
  },
  {
   "cell_type": "code",
   "execution_count": 1,
   "metadata": {},
   "outputs": [
    {
     "name": "stdout",
     "output_type": "stream",
     "text": [
      "torch.LongTensor\n",
      "tensor([[1, 2, 3],\n",
      "        [4, 5, 6],\n",
      "        [7, 8, 9]])\n"
     ]
    }
   ],
   "source": [
    "import torch\n",
    "\n",
    "x = torch.tensor([[1, 2, 3],[4, 5, 6], [7, 8, 9]])\n",
    "print(x.type())\n",
    "print(x)"
   ]
  },
  {
   "cell_type": "code",
   "execution_count": 2,
   "metadata": {},
   "outputs": [
    {
     "name": "stdout",
     "output_type": "stream",
     "text": [
      "torch.Size([3, 3])\n",
      "torch.Size([3, 3])\n",
      "2\n"
     ]
    }
   ],
   "source": [
    "print(x.size())\n",
    "print(x.shape)\n",
    "print(x.ndimension())"
   ]
  },
  {
   "cell_type": "code",
   "execution_count": 3,
   "metadata": {},
   "outputs": [
    {
     "name": "stdout",
     "output_type": "stream",
     "text": [
      "torch.Size([3, 2, 2])\n",
      "3\n"
     ]
    }
   ],
   "source": [
    "y = torch.FloatTensor([[[1, 2], [3, 4]], [[5, 6], [7, 8]], [[1, 2], [3, 4]]])\n",
    "print(y.shape)\n",
    "print(y.ndimension()) # == len(y.shape)"
   ]
  },
  {
   "cell_type": "code",
   "execution_count": 4,
   "metadata": {},
   "outputs": [
    {
     "name": "stdout",
     "output_type": "stream",
     "text": [
      "tensor([[[1., 2.],\n",
      "         [3., 4.]],\n",
      "\n",
      "        [[5., 6.],\n",
      "         [7., 8.]],\n",
      "\n",
      "        [[1., 2.],\n",
      "         [3., 4.]]])\n",
      "origianl shape:  torch.Size([3, 2, 2])\n",
      "tensor([[[[1., 2.],\n",
      "          [3., 4.]],\n",
      "\n",
      "         [[5., 6.],\n",
      "          [7., 8.]],\n",
      "\n",
      "         [[1., 2.],\n",
      "          [3., 4.]]]])\n",
      "unsqueeze(0):  torch.Size([1, 3, 2, 2])\n"
     ]
    }
   ],
   "source": [
    "print(y)\n",
    "print(\"origianl shape: \", y.shape)\n",
    "\n",
    "y0 =y.unsqueeze(0)\n",
    "print(y0)\n",
    "print(\"unsqueeze(0): \", y0.shape)"
   ]
  },
  {
   "cell_type": "code",
   "execution_count": 5,
   "metadata": {},
   "outputs": [
    {
     "name": "stdout",
     "output_type": "stream",
     "text": [
      "tensor([[[[1., 2.],\n",
      "          [3., 4.]],\n",
      "\n",
      "         [[5., 6.],\n",
      "          [7., 8.]],\n",
      "\n",
      "         [[1., 2.],\n",
      "          [3., 4.]]]])\n",
      "tensor([[[[1., 2.],\n",
      "          [3., 4.]]],\n",
      "\n",
      "\n",
      "        [[[5., 6.],\n",
      "          [7., 8.]]],\n",
      "\n",
      "\n",
      "        [[[1., 2.],\n",
      "          [3., 4.]]]])\n",
      "tensor([[[[1., 2.]],\n",
      "\n",
      "         [[3., 4.]]],\n",
      "\n",
      "\n",
      "        [[[5., 6.]],\n",
      "\n",
      "         [[7., 8.]]],\n",
      "\n",
      "\n",
      "        [[[1., 2.]],\n",
      "\n",
      "         [[3., 4.]]]])\n",
      "tensor([[[[1.],\n",
      "          [2.]],\n",
      "\n",
      "         [[3.],\n",
      "          [4.]]],\n",
      "\n",
      "\n",
      "        [[[5.],\n",
      "          [6.]],\n",
      "\n",
      "         [[7.],\n",
      "          [8.]]],\n",
      "\n",
      "\n",
      "        [[[1.],\n",
      "          [2.]],\n",
      "\n",
      "         [[3.],\n",
      "          [4.]]]])\n"
     ]
    }
   ],
   "source": [
    "x = torch.FloatTensor([[[1, 2], [3, 4]], [[5, 6], [7, 8]], [[1, 2], [3, 4]]])\n",
    "\n",
    "x0 = x.unsqueeze(0) # [3, 2, 2] --> [1, 3, 2, 2]\n",
    "x1 = x.unsqueeze(1) # [3, 2, 2] --> [3, 1, 2, 2]\n",
    "x2 = x.unsqueeze(2) # [3, 2, 2] --> [3, 2, 1, 2]\n",
    "x3 = x.unsqueeze(3) # [3, 2, 2] --> [3, 2, 2, 1]\n",
    "\n",
    "print(x0)\n",
    "print(x1)\n",
    "print(x2)\n",
    "print(x3)"
   ]
  },
  {
   "cell_type": "code",
   "execution_count": 6,
   "metadata": {},
   "outputs": [
    {
     "name": "stdout",
     "output_type": "stream",
     "text": [
      "torch.Size([3, 2, 2])\n"
     ]
    }
   ],
   "source": [
    "xt = x.unsqueeze(0).unsqueeze(1).unsqueeze(0).unsqueeze(5) # 1, 1, 1, 3, 2, 1, 2\n",
    "print(xt.squeeze().shape)"
   ]
  },
  {
   "cell_type": "code",
   "execution_count": 7,
   "metadata": {},
   "outputs": [
    {
     "data": {
      "text/plain": [
       "tensor([[1., 2., 3., 4.],\n",
       "        [5., 6., 7., 8.],\n",
       "        [1., 2., 3., 4.]])"
      ]
     },
     "execution_count": 7,
     "metadata": {},
     "output_type": "execute_result"
    }
   ],
   "source": [
    "x.view(3, -1)"
   ]
  },
  {
   "cell_type": "code",
   "execution_count": 8,
   "metadata": {},
   "outputs": [
    {
     "name": "stdout",
     "output_type": "stream",
     "text": [
      "tensor([[1.6089],\n",
      "        [3.8755],\n",
      "        [4.8904]])\n"
     ]
    }
   ],
   "source": [
    "x = torch.FloatTensor([[1, 2], [3, 4], [5, 6]]) # 3 x 2\n",
    "w = torch.rand(1, 2, dtype=torch.float)  # 2 x 1\n",
    "b = torch.rand(3, 1, dtype=torch.float)\n",
    "\n",
    "print(x @ w.T + b)"
   ]
  },
  {
   "cell_type": "code",
   "execution_count": 9,
   "metadata": {},
   "outputs": [
    {
     "name": "stdout",
     "output_type": "stream",
     "text": [
      "tensor(72.)\n"
     ]
    }
   ],
   "source": [
    "w = torch.tensor(4.0, requires_grad=True)\n",
    "a = w*3\n",
    "l = a**2\n",
    "l.backward()\n",
    "print(w.grad)"
   ]
  },
  {
   "cell_type": "markdown",
   "metadata": {},
   "source": [
    "## Linear Regression 실습"
   ]
  },
  {
   "cell_type": "code",
   "execution_count": 10,
   "metadata": {},
   "outputs": [
    {
     "name": "stdout",
     "output_type": "stream",
     "text": [
      "tensor([[-1.3503],\n",
      "        [-0.5235]]) tensor([[0.1974]])\n",
      "Epoch 0: Cost = 228.8247528076172, W = [-0.7971804141998291, 0.4944852590560913], b = 0.40315765142440796\n",
      "Epoch 100: Cost = 2.1431918144226074, W = [0.27292588353157043, 3.248741626739502], b = -0.8996080756187439\n",
      "Epoch 200: Cost = 1.0859915018081665, W = [0.6914018988609314, 3.229621410369873], b = -1.8261011838912964\n",
      "Epoch 300: Cost = 0.5579128265380859, W = [1.053904414176941, 3.170423746109009], b = -2.447092056274414\n",
      "Epoch 400: Cost = 0.2867196500301361, W = [1.320857048034668, 3.1228320598602295], b = -2.887373924255371\n",
      "Epoch 500: Cost = 0.14735078811645508, W = [1.51303231716156, 3.0881307125091553], b = -3.2024497985839844\n",
      "Epoch 600: Cost = 0.07572630792856216, W = [1.6508898735046387, 3.063188076019287], b = -3.4282593727111816\n",
      "Epoch 700: Cost = 0.03891732543706894, W = [1.7497279644012451, 3.0452992916107178], b = -3.59013032913208\n",
      "Epoch 800: Cost = 0.020000314339995384, W = [1.8205845355987549, 3.0324745178222656], b = -3.706172227859497\n",
      "Epoch 900: Cost = 0.010278567671775818, W = [1.8713802099227905, 3.023280143737793], b = -3.789360284805298\n",
      "Epoch 1000: Cost = 0.005282334052026272, W = [1.9077955484390259, 3.016688823699951], b = -3.84899640083313\n",
      "Epoch 1100: Cost = 0.0027146481443196535, W = [1.9339003562927246, 3.0119643211364746], b = -3.891749382019043\n",
      "Epoch 1200: Cost = 0.0013951228465884924, W = [1.952614665031433, 3.0085766315460205], b = -3.922396659851074\n",
      "Epoch 1300: Cost = 0.0007169632590375841, W = [1.966030478477478, 3.00614857673645], b = -3.944368362426758\n",
      "Epoch 1400: Cost = 0.0003684675903059542, W = [1.9756479263305664, 3.0044076442718506], b = -3.960118293762207\n",
      "Epoch 1500: Cost = 0.00018936171545647085, W = [1.9825422763824463, 3.003159761428833], b = -3.971409320831299\n",
      "Epoch 1600: Cost = 9.73263886407949e-05, W = [1.9874844551086426, 3.002265214920044], b = -3.9795033931732178\n",
      "Epoch 1700: Cost = 5.0013662985293195e-05, W = [1.99102783203125, 3.0016238689422607], b = -3.98530650138855\n",
      "Epoch 1800: Cost = 2.5705923690111376e-05, W = [1.993567705154419, 3.001164197921753], b = -3.9894657135009766\n",
      "Epoch 1900: Cost = 1.3211621080699842e-05, W = [1.995388388633728, 3.0008344650268555], b = -3.992447853088379\n",
      "Epoch 2000: Cost = 6.791849045839626e-06, W = [1.9966939687728882, 3.000598430633545], b = -3.9945857524871826\n",
      "Epoch 2100: Cost = 3.490259814498131e-06, W = [1.9976295232772827, 3.000429391860962], b = -3.9961185455322266\n",
      "Epoch 2200: Cost = 1.7932792388819507e-06, W = [1.9983010292053223, 3.000307559967041], b = -3.9972171783447266\n",
      "Epoch 2300: Cost = 9.220759125128097e-07, W = [1.998781681060791, 3.000220775604248], b = -3.998004674911499\n",
      "Epoch 2400: Cost = 4.7413831794074213e-07, W = [1.9991263151168823, 3.0001583099365234], b = -3.9985694885253906\n",
      "Epoch 2500: Cost = 2.4350225658054114e-07, W = [1.999374270439148, 3.0001132488250732], b = -3.998974323272705\n",
      "Epoch 2600: Cost = 1.25373503578885e-07, W = [1.9995503425598145, 3.000081777572632], b = -3.9992644786834717\n",
      "Epoch 2700: Cost = 6.454611423123424e-08, W = [1.999678134918213, 3.0000579357147217], b = -3.99947190284729\n",
      "Epoch 2800: Cost = 3.312745633365921e-08, W = [1.9997694492340088, 3.0000414848327637], b = -3.9996209144592285\n",
      "Epoch 2900: Cost = 1.7177944400259548e-08, W = [1.9998341798782349, 3.0000298023223877], b = -3.999727725982666\n",
      "Epoch 3000: Cost = 8.927282024728811e-09, W = [1.9998797178268433, 3.0000221729278564], b = -3.9998042583465576\n"
     ]
    }
   ],
   "source": [
    "import torch\n",
    "\n",
    "x_train = torch.FloatTensor([[1, 2], [3, 2], [3, 7], [1, 1], [1, 0]])\n",
    "y_train = torch.FloatTensor([[4], [8], [23], [1], [-2]])\n",
    "\n",
    "W = torch.randn(2, 1)\n",
    "b = torch.randn(1, 1)\n",
    "print(W, b)\n",
    "\n",
    "lr = 0.01\n",
    "\n",
    "for epoch in range(3001):\n",
    "    W.requires_grad_(True)\n",
    "    b.requires_grad_(True)\n",
    "\n",
    "    h = x_train @ W + b\n",
    "    cost = ((y_train - h)**2).mean()\n",
    "\n",
    "    cost.backward()\n",
    "\n",
    "    with torch.no_grad():\n",
    "        W = W - lr * W.grad\n",
    "        b = b - lr * b.grad\n",
    "\n",
    "        if epoch % 100 == 0:\n",
    "            print(f'Epoch {epoch}: Cost = {cost.item()}, W = {W.squeeze().tolist()}, b = {b.squeeze().item()}')\n"
   ]
  },
  {
   "cell_type": "code",
   "execution_count": 11,
   "metadata": {},
   "outputs": [
    {
     "name": "stdout",
     "output_type": "stream",
     "text": [
      "tensor([[35.9998],\n",
      "        [21.0001],\n",
      "        [32.0001]])\n"
     ]
    }
   ],
   "source": [
    "x_test = torch.FloatTensor([[5, 10], [2, 7], [3, 10]])\n",
    "\n",
    "y_test = x_test @ W + b\n",
    "print(y_test)"
   ]
  },
  {
   "cell_type": "markdown",
   "metadata": {},
   "source": [
    "## Linear Regression with Scikit-learn"
   ]
  },
  {
   "cell_type": "code",
   "execution_count": 12,
   "metadata": {},
   "outputs": [
    {
     "name": "stdout",
     "output_type": "stream",
     "text": [
      "[[2. 3.]] [-4.]\n"
     ]
    }
   ],
   "source": [
    "from sklearn.linear_model import LinearRegression\n",
    "\n",
    "x = [[1, 2], [3, 2], [3 ,7], [1, 1], [1, 0]]\n",
    "y = [[4], [8], [23], [1], [-2]]\n",
    "\n",
    "lr = LinearRegression() # 모델 생성\n",
    "lr.fit(x, y) # 학습 (피팅)\n",
    "\n",
    "print(lr.coef_, lr.intercept_)"
   ]
  },
  {
   "cell_type": "code",
   "execution_count": 13,
   "metadata": {},
   "outputs": [
    {
     "name": "stdout",
     "output_type": "stream",
     "text": [
      "[[36.]\n",
      " [21.]\n",
      " [25.]]\n"
     ]
    }
   ],
   "source": [
    "x_test = [[5, 10], [2, 7], [10, 3]]\n",
    "y_test = lr.predict(x_test)\n",
    "print(y_test)"
   ]
  },
  {
   "cell_type": "markdown",
   "metadata": {},
   "source": [
    "# L04.1 Logistic Regression Practice"
   ]
  },
  {
   "cell_type": "code",
   "execution_count": 14,
   "metadata": {},
   "outputs": [],
   "source": [
    "import torch\n",
    "\n",
    "x_train = torch.FloatTensor([[1], [2], [3], [4], [5], [2.5], [3.5], [0], [3.1], [2.7], [2.8], [2.9]])\n",
    "y_train = torch.FloatTensor([[1],[1],[1],[0],[0],[0],[0],[1],[0],[1],[1],[1]])"
   ]
  },
  {
   "cell_type": "code",
   "execution_count": 15,
   "metadata": {},
   "outputs": [
    {
     "name": "stdout",
     "output_type": "stream",
     "text": [
      "Epoch 0: Cost = 0.5522533655166626, W = -0.5545852184295654, b = 1.4011971950531006\n",
      "Epoch 100: Cost = 0.415697306394577, W = -1.525394320487976, b = 4.634708881378174\n",
      "Epoch 200: Cost = 0.3972998559474945, W = -1.9405348300933838, b = 5.901620388031006\n",
      "Epoch 300: Cost = 0.39017876982688904, W = -2.2027761936187744, b = 6.695487976074219\n",
      "Epoch 400: Cost = 0.3866705000400543, W = -2.38805890083313, b = 7.254000663757324\n",
      "Epoch 500: Cost = 0.38472986221313477, W = -2.5263731479644775, b = 7.669829368591309\n",
      "Epoch 600: Cost = 0.3835808038711548, W = -2.633063316345215, b = 7.990005016326904\n",
      "Epoch 700: Cost = 0.38286924362182617, W = -2.7171547412872314, b = 8.242034912109375\n",
      "Epoch 800: Cost = 0.3824148178100586, W = -2.7844481468200684, b = 8.443523406982422\n",
      "Epoch 900: Cost = 0.38211771845817566, W = -2.838899850845337, b = 8.606441497802734\n",
      "Epoch 1000: Cost = 0.3819202184677124, W = -2.8833353519439697, b = 8.739313125610352\n",
      "Epoch 1100: Cost = 0.3817870616912842, W = -2.9198310375213623, b = 8.848393440246582\n",
      "Epoch 1200: Cost = 0.381696492433548, W = -2.9499599933624268, b = 8.938409805297852\n",
      "Epoch 1300: Cost = 0.38163432478904724, W = -2.9749324321746826, b = 9.012998580932617\n",
      "Epoch 1400: Cost = 0.38159120082855225, W = -2.9957003593444824, b = 9.075014114379883\n",
      "Epoch 1500: Cost = 0.38156136870384216, W = -3.0130198001861572, b = 9.126721382141113\n",
      "Epoch 1600: Cost = 0.3815405070781708, W = -3.0274927616119385, b = 9.169922828674316\n",
      "Epoch 1700: Cost = 0.3815258741378784, W = -3.0396084785461426, b = 9.206084251403809\n",
      "Epoch 1800: Cost = 0.38151565194129944, W = -3.049767017364502, b = 9.23639965057373\n",
      "Epoch 1900: Cost = 0.38150835037231445, W = -3.0582938194274902, b = 9.261842727661133\n",
      "Epoch 2000: Cost = 0.38150325417518616, W = -3.065458297729492, b = 9.283219337463379\n"
     ]
    }
   ],
   "source": [
    "import math\n",
    "\n",
    "w = torch.randn(1, 1)\n",
    "b = torch.randn(1, 1)\n",
    "\n",
    "lr = 1.0\n",
    "\n",
    "for epoch in range(2001):\n",
    "    w.requires_grad_(True)\n",
    "    b.requires_grad_(True)\n",
    "\n",
    "    h = torch.sigmoid(x_train @ w + b)\n",
    "    #h = 1 / (1 + math.e ** (-(x_train @ w + b)))\n",
    "\n",
    "    cost = torch.mean(-y_train * torch.log(h) - (1-y_train) * torch.log(1-h))  # BCE\n",
    "\n",
    "    cost.backward()\n",
    "\n",
    "    with torch.no_grad():\n",
    "        w = w - lr * w.grad\n",
    "        b = b - lr * b.grad\n",
    "\n",
    "        if epoch % 100 == 0:\n",
    "            print(f'Epoch {epoch}: Cost = {cost.item()}, W = {w.squeeze().tolist()}, b = {b.squeeze().item()}')"
   ]
  },
  {
   "cell_type": "code",
   "execution_count": 16,
   "metadata": {},
   "outputs": [
    {
     "name": "stdout",
     "output_type": "stream",
     "text": [
      "Epoch 0: Cost = 0.6519753336906433, W = -0.5400041937828064, b = 0.6898833513259888\n",
      "Epoch 100: Cost = 0.41791531443595886, W = -1.4881244897842407, b = 4.520236492156982\n",
      "Epoch 200: Cost = 0.39801058173179626, W = -1.9191697835922241, b = 5.836746692657471\n",
      "Epoch 300: Cost = 0.39050185680389404, W = -2.1882894039154053, b = 6.651742458343506\n",
      "Epoch 400: Cost = 0.38684141635894775, W = -2.377485513687134, b = 7.222175598144531\n",
      "Epoch 500: Cost = 0.3848283588886261, W = -2.5183324813842773, b = 7.645679473876953\n",
      "Epoch 600: Cost = 0.3836406171321869, W = -2.626786947250366, b = 7.971182823181152\n",
      "Epoch 700: Cost = 0.3829069435596466, W = -2.712167501449585, b = 8.227095603942871\n",
      "Epoch 800: Cost = 0.38243910670280457, W = -2.780433416366577, b = 8.431507110595703\n",
      "Epoch 900: Cost = 0.382133811712265, W = -2.8356399536132812, b = 8.596691131591797\n",
      "Epoch 1000: Cost = 0.38193097710609436, W = -2.880664587020874, b = 8.731328964233398\n",
      "Epoch 1100: Cost = 0.38179442286491394, W = -2.9176297187805176, b = 8.841814994812012\n",
      "Epoch 1200: Cost = 0.3817014694213867, W = -2.9481394290924072, b = 8.932971954345703\n",
      "Epoch 1300: Cost = 0.3816377818584442, W = -2.973422050476074, b = 9.008487701416016\n",
      "Epoch 1400: Cost = 0.38159358501434326, W = -2.9944419860839844, b = 9.071256637573242\n",
      "Epoch 1500: Cost = 0.38156306743621826, W = -3.011967182159424, b = 9.123579025268555\n",
      "Epoch 1600: Cost = 0.38154157996177673, W = -3.0266122817993164, b = 9.167295455932617\n",
      "Epoch 1700: Cost = 0.3815266191959381, W = -3.038870334625244, b = 9.20388126373291\n",
      "Epoch 1800: Cost = 0.38151609897613525, W = -3.0491461753845215, b = 9.234546661376953\n",
      "Epoch 1900: Cost = 0.3815087080001831, W = -3.0577714443206787, b = 9.260284423828125\n",
      "Epoch 2000: Cost = 0.3815035820007324, W = -3.06501841545105, b = 9.28190803527832\n"
     ]
    }
   ],
   "source": [
    "bce = torch.nn.BCELoss()\n",
    "\n",
    "w = torch.randn(1, 1)\n",
    "b = torch.randn(1, 1)\n",
    "\n",
    "lr = 1.0\n",
    "\n",
    "for epoch in range(2001):\n",
    "    w.requires_grad_(True)\n",
    "    b.requires_grad_(True)\n",
    "\n",
    "    h = torch.sigmoid(x_train @ w + b)\n",
    "\n",
    "    cost = bce(h, y_train)\n",
    "    cost.backward()\n",
    "\n",
    "    with torch.no_grad():\n",
    "        w = w - lr * w.grad\n",
    "        b = b - lr * b.grad\n",
    "\n",
    "        if epoch % 100 == 0:\n",
    "            print(f'Epoch {epoch}: Cost = {cost.item()}, W = {w.squeeze().tolist()}, b = {b.squeeze().item()}')"
   ]
  },
  {
   "cell_type": "code",
   "execution_count": 17,
   "metadata": {},
   "outputs": [
    {
     "name": "stdout",
     "output_type": "stream",
     "text": [
      "tensor([[0.],\n",
      "        [1.]])\n"
     ]
    }
   ],
   "source": [
    "x_test = torch.FloatTensor([[4.5],[1.1]])\n",
    "test_result = torch.sigmoid(torch.mm(x_test, w) + b)\n",
    "print(torch.round(test_result))"
   ]
  },
  {
   "cell_type": "code",
   "execution_count": 18,
   "metadata": {},
   "outputs": [
    {
     "data": {
      "image/png": "[encoded data removed]",
      "text/plain": [
       "<Figure size 640x480 with 1 Axes>"
      ]
     },
     "metadata": {},
     "output_type": "display_data"
    }
   ],
   "source": [
    "import matplotlib.pyplot as plt\n",
    "\n",
    "plt.scatter(x_train, y_train)\n",
    "plt.show()"
   ]
  },
  {
   "cell_type": "code",
   "execution_count": 19,
   "metadata": {},
   "outputs": [],
   "source": [
    "optimizer = torch.optim.SGD([W, b], lr=1.0)\n"
   ]
  },
  {
   "cell_type": "markdown",
   "metadata": {},
   "source": [
    "## Matplotlib으로 결과 시각화"
   ]
  },
  {
   "cell_type": "code",
   "execution_count": 22,
   "metadata": {},
   "outputs": [
    {
     "ename": "RuntimeError",
     "evalue": "mat1 and mat2 shapes cannot be multiplied (100x1 and 2x1)",
     "output_type": "error",
     "traceback": [
      "\u001b[0;31m---------------------------------------------------------------------------\u001b[0m",
      "\u001b[0;31mRuntimeError\u001b[0m                              Traceback (most recent call last)",
      "Cell \u001b[0;32mIn[22], line 9\u001b[0m\n\u001b[1;32m      6\u001b[0m plt\u001b[38;5;241m.\u001b[39mscatter(x_train, y_train, c\u001b[38;5;241m=\u001b[39m\u001b[38;5;124m\"\u001b[39m\u001b[38;5;124mblack\u001b[39m\u001b[38;5;124m\"\u001b[39m)\n\u001b[1;32m      8\u001b[0m X \u001b[38;5;241m=\u001b[39m torch\u001b[38;5;241m.\u001b[39mlinspace(\u001b[38;5;241m0\u001b[39m,\u001b[38;5;241m5\u001b[39m,\u001b[38;5;241m100\u001b[39m)\u001b[38;5;241m.\u001b[39munsqueeze(\u001b[38;5;241m1\u001b[39m)\n\u001b[0;32m----> 9\u001b[0m Y \u001b[38;5;241m=\u001b[39m torch\u001b[38;5;241m.\u001b[39msigmoid(\u001b[43mtorch\u001b[49m\u001b[38;5;241;43m.\u001b[39;49m\u001b[43mmm\u001b[49m\u001b[43m(\u001b[49m\u001b[43mX\u001b[49m\u001b[43m,\u001b[49m\u001b[43mW\u001b[49m\u001b[43m)\u001b[49m\u001b[38;5;241m+\u001b[39mb)\n\u001b[1;32m     10\u001b[0m plt\u001b[38;5;241m.\u001b[39mplot(X, Y, c\u001b[38;5;241m=\u001b[39m\u001b[38;5;124m\"\u001b[39m\u001b[38;5;124m#ff0000\u001b[39m\u001b[38;5;124m\"\u001b[39m)\n\u001b[1;32m     11\u001b[0m plt\u001b[38;5;241m.\u001b[39mshow()\n",
      "\u001b[0;31mRuntimeError\u001b[0m: mat1 and mat2 shapes cannot be multiplied (100x1 and 2x1)"
     ]
    },
    {
     "data": {
      "image/png": "[encoded data removed]",
      "text/plain": [
       "<Figure size 640x480 with 1 Axes>"
      ]
     },
     "metadata": {},
     "output_type": "display_data"
    }
   ],
   "source": [
    "import matplotlib.pyplot as plt\n",
    "\n",
    "W.requires_grad_(False)\n",
    "b.requires_grad_(False)\n",
    "\n",
    "plt.scatter(x_train, y_train, c=\"black\")\n",
    "\n",
    "X = torch.linspace(0,5,100).unsqueeze(1)\n",
    "Y = torch.sigmoid(torch.mm(X,W)+b)\n",
    "plt.plot(X, Y, c=\"#ff0000\")\n",
    "plt.show()"
   ]
  },
  {
   "cell_type": "markdown",
   "metadata": {},
   "source": [
    "## sklearn에서LogisticRegression사용"
   ]
  },
  {
   "cell_type": "code",
   "execution_count": 25,
   "metadata": {},
   "outputs": [
    {
     "name": "stdout",
     "output_type": "stream",
     "text": [
      "[[-3.10428163]] [9.39919938]\n",
      "[0 1]\n"
     ]
    }
   ],
   "source": [
    "from sklearn.linear_model import LogisticRegression\n",
    "\n",
    "x_train = [[1],[2],[3],[4],[5],[2.5],[3.5],[0],[3.1],[2.7],[2.8],[2.9]]\n",
    "y_train = [1,1,1,0,0,0,0,1,0,1,1,1] \n",
    "\n",
    "model = LogisticRegression(penalty=None)\n",
    "model.fit(x_train,y_train)\n",
    "\n",
    "print(model.coef_, model.intercept_)\n",
    "\n",
    "x_test = [[4.5], [1.1]]\n",
    "test_result = model.predict(x_test)\n",
    "print(test_result)\n",
    "\n"
   ]
  },
  {
   "cell_type": "markdown",
   "metadata": {},
   "source": [
    "# L06.1 Softmax Regression Practice"
   ]
  },
  {
   "cell_type": "code",
   "execution_count": 26,
   "metadata": {},
   "outputs": [],
   "source": [
    "import torch\n",
    "x_train = torch.FloatTensor([ [1,2,1,1], [2,1,3,2], [3,1,3,4], [4,1,5,5], [1,7,5,5], [1,2,5,6], [1,6,6,6], [1,7,7,7] ])\n",
    "y_train = torch.FloatTensor([ [0,0,1], [0,0,1], [0,0,1], [0,1,0], [0,1,0], [0,1,0], [1,0,0], [1,0,0] ])"
   ]
  },
  {
   "cell_type": "code",
   "execution_count": 27,
   "metadata": {},
   "outputs": [],
   "source": [
    "W = torch.randn(4, 3, requires_grad=True)\n",
    "b = torch.randn(1, 3, requires_grad=True)\n",
    "\n",
    "optimizer = torch.optim.Adam([W, b], lr=0.1)\n"
   ]
  },
  {
   "cell_type": "code",
   "execution_count": null,
   "metadata": {},
   "outputs": [],
   "source": [
    "for epoch in range(3001):\n",
    "    "
   ]
  }
 ],
 "metadata": {
  "kernelspec": {
   "display_name": ".venv",
   "language": "python",
   "name": "python3"
  },
  "language_info": {
   "codemirror_mode": {
    "name": "ipython",
    "version": 3
   },
   "file_extension": ".py",
   "mimetype": "text/x-python",
   "name": "python",
   "nbconvert_exporter": "python",
   "pygments_lexer": "ipython3",
   "version": "3.9.13"
  }
 },
 "nbformat": 4,
 "nbformat_minor": 2
}
